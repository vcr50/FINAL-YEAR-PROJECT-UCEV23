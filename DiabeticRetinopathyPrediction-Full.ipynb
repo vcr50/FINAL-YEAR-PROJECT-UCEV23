{
 "cells": [
  {
   "cell_type": "code",
   "execution_count": 1,
   "metadata": {},
   "outputs": [],
   "source": [
    "import numpy as np"
   ]
  },
  {
   "cell_type": "code",
   "execution_count": 2,
   "metadata": {},
   "outputs": [],
   "source": [
    "import pandas as pd"
   ]
  },
  {
   "cell_type": "code",
   "execution_count": 3,
   "metadata": {},
   "outputs": [],
   "source": [
    "import matplotlib.pyplot as plt"
   ]
  },
  {
   "cell_type": "code",
   "execution_count": 4,
   "metadata": {},
   "outputs": [],
   "source": [
    "import seaborn as sns"
   ]
  },
  {
   "cell_type": "code",
   "execution_count": 5,
   "metadata": {},
   "outputs": [
    {
     "name": "stderr",
     "output_type": "stream",
     "text": [
      "C:\\Users\\vcr03\\AppData\\Roaming\\Python\\Python37\\site-packages\\tensorflow\\python\\framework\\dtypes.py:516: FutureWarning: Passing (type, 1) or '1type' as a synonym of type is deprecated; in a future version of numpy, it will be understood as (type, (1,)) / '(1,)type'.\n",
      "  _np_qint8 = np.dtype([(\"qint8\", np.int8, 1)])\n",
      "C:\\Users\\vcr03\\AppData\\Roaming\\Python\\Python37\\site-packages\\tensorflow\\python\\framework\\dtypes.py:517: FutureWarning: Passing (type, 1) or '1type' as a synonym of type is deprecated; in a future version of numpy, it will be understood as (type, (1,)) / '(1,)type'.\n",
      "  _np_quint8 = np.dtype([(\"quint8\", np.uint8, 1)])\n",
      "C:\\Users\\vcr03\\AppData\\Roaming\\Python\\Python37\\site-packages\\tensorflow\\python\\framework\\dtypes.py:518: FutureWarning: Passing (type, 1) or '1type' as a synonym of type is deprecated; in a future version of numpy, it will be understood as (type, (1,)) / '(1,)type'.\n",
      "  _np_qint16 = np.dtype([(\"qint16\", np.int16, 1)])\n",
      "C:\\Users\\vcr03\\AppData\\Roaming\\Python\\Python37\\site-packages\\tensorflow\\python\\framework\\dtypes.py:519: FutureWarning: Passing (type, 1) or '1type' as a synonym of type is deprecated; in a future version of numpy, it will be understood as (type, (1,)) / '(1,)type'.\n",
      "  _np_quint16 = np.dtype([(\"quint16\", np.uint16, 1)])\n",
      "C:\\Users\\vcr03\\AppData\\Roaming\\Python\\Python37\\site-packages\\tensorflow\\python\\framework\\dtypes.py:520: FutureWarning: Passing (type, 1) or '1type' as a synonym of type is deprecated; in a future version of numpy, it will be understood as (type, (1,)) / '(1,)type'.\n",
      "  _np_qint32 = np.dtype([(\"qint32\", np.int32, 1)])\n",
      "C:\\Users\\vcr03\\AppData\\Roaming\\Python\\Python37\\site-packages\\tensorflow\\python\\framework\\dtypes.py:525: FutureWarning: Passing (type, 1) or '1type' as a synonym of type is deprecated; in a future version of numpy, it will be understood as (type, (1,)) / '(1,)type'.\n",
      "  np_resource = np.dtype([(\"resource\", np.ubyte, 1)])\n",
      "C:\\Users\\vcr03\\AppData\\Roaming\\Python\\Python37\\site-packages\\tensorboard\\compat\\tensorflow_stub\\dtypes.py:541: FutureWarning: Passing (type, 1) or '1type' as a synonym of type is deprecated; in a future version of numpy, it will be understood as (type, (1,)) / '(1,)type'.\n",
      "  _np_qint8 = np.dtype([(\"qint8\", np.int8, 1)])\n",
      "C:\\Users\\vcr03\\AppData\\Roaming\\Python\\Python37\\site-packages\\tensorboard\\compat\\tensorflow_stub\\dtypes.py:542: FutureWarning: Passing (type, 1) or '1type' as a synonym of type is deprecated; in a future version of numpy, it will be understood as (type, (1,)) / '(1,)type'.\n",
      "  _np_quint8 = np.dtype([(\"quint8\", np.uint8, 1)])\n",
      "C:\\Users\\vcr03\\AppData\\Roaming\\Python\\Python37\\site-packages\\tensorboard\\compat\\tensorflow_stub\\dtypes.py:543: FutureWarning: Passing (type, 1) or '1type' as a synonym of type is deprecated; in a future version of numpy, it will be understood as (type, (1,)) / '(1,)type'.\n",
      "  _np_qint16 = np.dtype([(\"qint16\", np.int16, 1)])\n",
      "C:\\Users\\vcr03\\AppData\\Roaming\\Python\\Python37\\site-packages\\tensorboard\\compat\\tensorflow_stub\\dtypes.py:544: FutureWarning: Passing (type, 1) or '1type' as a synonym of type is deprecated; in a future version of numpy, it will be understood as (type, (1,)) / '(1,)type'.\n",
      "  _np_quint16 = np.dtype([(\"quint16\", np.uint16, 1)])\n",
      "C:\\Users\\vcr03\\AppData\\Roaming\\Python\\Python37\\site-packages\\tensorboard\\compat\\tensorflow_stub\\dtypes.py:545: FutureWarning: Passing (type, 1) or '1type' as a synonym of type is deprecated; in a future version of numpy, it will be understood as (type, (1,)) / '(1,)type'.\n",
      "  _np_qint32 = np.dtype([(\"qint32\", np.int32, 1)])\n",
      "C:\\Users\\vcr03\\AppData\\Roaming\\Python\\Python37\\site-packages\\tensorboard\\compat\\tensorflow_stub\\dtypes.py:550: FutureWarning: Passing (type, 1) or '1type' as a synonym of type is deprecated; in a future version of numpy, it will be understood as (type, (1,)) / '(1,)type'.\n",
      "  np_resource = np.dtype([(\"resource\", np.ubyte, 1)])\n"
     ]
    }
   ],
   "source": [
    "from tensorflow.keras.preprocessing.image import load_img,img_to_array,ImageDataGenerator"
   ]
  },
  {
   "cell_type": "code",
   "execution_count": 6,
   "metadata": {},
   "outputs": [],
   "source": [
    "from PIL import Image"
   ]
  },
  {
   "cell_type": "code",
   "execution_count": 7,
   "metadata": {},
   "outputs": [],
   "source": [
    "from glob import glob"
   ]
  },
  {
   "cell_type": "code",
   "execution_count": 8,
   "metadata": {},
   "outputs": [],
   "source": [
    "import cv2"
   ]
  },
  {
   "cell_type": "code",
   "execution_count": 9,
   "metadata": {},
   "outputs": [],
   "source": [
    "from tensorflow.keras.utils import to_categorical"
   ]
  },
  {
   "cell_type": "code",
   "execution_count": 10,
   "metadata": {},
   "outputs": [],
   "source": [
    "from tensorflow.keras.models import Sequential"
   ]
  },
  {
   "cell_type": "code",
   "execution_count": 11,
   "metadata": {},
   "outputs": [],
   "source": [
    "from tensorflow.keras.layers import Dense , Dropout, Flatten , Conv2D,MaxPool2D, MaxPooling2D, BatchNormalization"
   ]
  },
  {
   "cell_type": "code",
   "execution_count": 12,
   "metadata": {},
   "outputs": [],
   "source": [
    "from tensorflow.keras.preprocessing.image import array_to_img"
   ]
  },
  {
   "cell_type": "code",
   "execution_count": 13,
   "metadata": {},
   "outputs": [],
   "source": [
    "from tensorflow.keras.optimizers import Adam"
   ]
  },
  {
   "cell_type": "code",
   "execution_count": 14,
   "metadata": {},
   "outputs": [],
   "source": [
    "from tensorflow.keras.losses import BinaryCrossentropy"
   ]
  },
  {
   "cell_type": "code",
   "execution_count": 15,
   "metadata": {},
   "outputs": [],
   "source": [
    "from tensorflow.keras.callbacks import EarlyStopping, ModelCheckpoint"
   ]
  },
  {
   "cell_type": "code",
   "execution_count": 16,
   "metadata": {},
   "outputs": [],
   "source": [
    "from tensorflow.keras.applications.vgg16 import VGG16"
   ]
  },
  {
   "cell_type": "code",
   "execution_count": 17,
   "metadata": {},
   "outputs": [],
   "source": [
    "from sklearn.metrics import confusion_matrix "
   ]
  },
  {
   "cell_type": "code",
   "execution_count": 18,
   "metadata": {},
   "outputs": [],
   "source": [
    "from sklearn.model_selection import train_test_split"
   ]
  },
  {
   "cell_type": "code",
   "execution_count": 19,
   "metadata": {},
   "outputs": [],
   "source": [
    "from sklearn.preprocessing import LabelBinarizer"
   ]
  },
  {
   "cell_type": "code",
   "execution_count": 20,
   "metadata": {},
   "outputs": [],
   "source": [
    "from sklearn.utils import shuffle"
   ]
  },
  {
   "cell_type": "code",
   "execution_count": 21,
   "metadata": {},
   "outputs": [],
   "source": [
    "from imutils import paths"
   ]
  },
  {
   "cell_type": "code",
   "execution_count": 22,
   "metadata": {
    "_cell_guid": "b1076dfc-b9ad-4769-8c92-a6c4dae69d19",
    "_uuid": "8f2839f25d086af736a60e9eeb907d3b93b6e0e5"
   },
   "outputs": [],
   "source": [
    "import os"
   ]
  },
  {
   "cell_type": "code",
   "execution_count": 23,
   "metadata": {},
   "outputs": [],
   "source": [
    "from PIL import Image"
   ]
  },
  {
   "cell_type": "code",
   "execution_count": 24,
   "metadata": {},
   "outputs": [],
   "source": [
    "from IPython.display import Image as DImage"
   ]
  },
  {
   "cell_type": "code",
   "execution_count": 25,
   "metadata": {},
   "outputs": [],
   "source": [
    "from IPython.display import display"
   ]
  },
  {
   "cell_type": "code",
   "execution_count": 26,
   "metadata": {},
   "outputs": [],
   "source": [
    "from IPython.core.display import HTML"
   ]
  },
  {
   "cell_type": "code",
   "execution_count": 27,
   "metadata": {},
   "outputs": [],
   "source": [
    "def read_images(path,num_img):\n",
    "    array=np.zeros((num_img,224,224,3))\n",
    "    i=0\n",
    "    for img in os.listdir(path):\n",
    "        img_path=path + \"/\" + img\n",
    "        img=Image.open(img_path,mode=\"r\")\n",
    "        data=np.asarray(img,dtype=\"uint8\")\n",
    "        array[i]=data\n",
    "        i+=1\n",
    "    return array"
   ]
  },
  {
   "cell_type": "code",
   "execution_count": 28,
   "metadata": {},
   "outputs": [],
   "source": [
    "no_dr_path=r\"Dataset/No_DR\"\n",
    "num_no_dr=len(glob(\"Dataset/No_DR/*\"))\n",
    "no_dr_array=read_images(no_dr_path,num_no_dr)\n",
    "no_dr_array=no_dr_array.astype(np.uint8)"
   ]
  },
  {
   "cell_type": "code",
   "execution_count": 29,
   "metadata": {},
   "outputs": [],
   "source": [
    "mild_path=r\"Dataset/Mild\"\n",
    "num_mild=len(glob(\"Dataset/Mild/*\"))\n",
    "mild_array=read_images(mild_path,num_mild)\n",
    "mild_array=mild_array.astype(np.uint8)"
   ]
  },
  {
   "cell_type": "code",
   "execution_count": 30,
   "metadata": {},
   "outputs": [],
   "source": [
    "moderate_path=r\"Dataset/Moderate\"\n",
    "num_moderate=len(glob(\"Dataset/Moderate/*\"))\n",
    "moderate_array=read_images(moderate_path,num_moderate)\n",
    "moderate_array=moderate_array.astype(np.uint8)"
   ]
  },
  {
   "cell_type": "code",
   "execution_count": 31,
   "metadata": {},
   "outputs": [],
   "source": [
    "proliferate_dr_path=r\"Dataset/Proliferate_DR\"\n",
    "num_proliferate_dr=len(glob(\"Dataset/Proliferate_DR/*\"))\n",
    "proliferate_dr_array=read_images(proliferate_dr_path,num_proliferate_dr)\n",
    "proliferate_dr_array=proliferate_dr_array.astype(np.uint8)"
   ]
  },
  {
   "cell_type": "code",
   "execution_count": 32,
   "metadata": {
    "_cell_guid": "79c7e3d0-c299-4dcb-8224-4455121ee9b0",
    "_uuid": "d629ff2d2480ee46fbb7e2d37f6b5fab8052498a"
   },
   "outputs": [],
   "source": [
    "severe_path =r\"Dataset/Severe\"\n",
    "num_severe=len(glob(\"Dataset/Severe/*\"))\n",
    "severe_array=read_images(severe_path,num_severe)\n",
    "severe_array=severe_array.astype(np.uint8)"
   ]
  },
  {
   "cell_type": "code",
   "execution_count": 33,
   "metadata": {},
   "outputs": [
    {
     "name": "stdout",
     "output_type": "stream",
     "text": [
      "no_dr_array (1805, 224, 224, 3)\n"
     ]
    }
   ],
   "source": [
    "print(\"no_dr_array\",no_dr_array.shape)"
   ]
  },
  {
   "cell_type": "code",
   "execution_count": 34,
   "metadata": {},
   "outputs": [
    {
     "name": "stdout",
     "output_type": "stream",
     "text": [
      "mild_array (370, 224, 224, 3)\n"
     ]
    }
   ],
   "source": [
    "print(\"mild_array\",mild_array.shape)"
   ]
  },
  {
   "cell_type": "code",
   "execution_count": 35,
   "metadata": {},
   "outputs": [
    {
     "name": "stdout",
     "output_type": "stream",
     "text": [
      "moderate_array (999, 224, 224, 3)\n"
     ]
    }
   ],
   "source": [
    "print(\"moderate_array\",moderate_array.shape)"
   ]
  },
  {
   "cell_type": "code",
   "execution_count": 36,
   "metadata": {},
   "outputs": [
    {
     "name": "stdout",
     "output_type": "stream",
     "text": [
      "proliferate_dr_array (295, 224, 224, 3)\n"
     ]
    }
   ],
   "source": [
    "print(\"proliferate_dr_array\",proliferate_dr_array.shape)"
   ]
  },
  {
   "cell_type": "code",
   "execution_count": 37,
   "metadata": {},
   "outputs": [
    {
     "name": "stdout",
     "output_type": "stream",
     "text": [
      "severe_array (193, 224, 224, 3)\n"
     ]
    }
   ],
   "source": [
    "print(\"severe_array\",severe_array.shape)"
   ]
  },
  {
   "cell_type": "code",
   "execution_count": 38,
   "metadata": {},
   "outputs": [
    {
     "data": {
      "image/png": "[encoded data removed]",
      "text/plain": [
       "<Figure size 432x288 with 1 Axes>"
      ]
     },
     "metadata": {
      "needs_background": "light"
     },
     "output_type": "display_data"
    }
   ],
   "source": [
    "plt.imshow(no_dr_array[1])\n",
    "plt.axis(\"off\")\n",
    "plt.show()"
   ]
  },
  {
   "cell_type": "code",
   "execution_count": 39,
   "metadata": {},
   "outputs": [
    {
     "name": "stdout",
     "output_type": "stream",
     "text": [
      "no_dr_array dtype is uint8\n"
     ]
    }
   ],
   "source": [
    "print(\"no_dr_array dtype is\",no_dr_array.dtype)"
   ]
  },
  {
   "cell_type": "code",
   "execution_count": 40,
   "metadata": {},
   "outputs": [
    {
     "name": "stdout",
     "output_type": "stream",
     "text": [
      "mild_array dtype is uint8\n"
     ]
    }
   ],
   "source": [
    "print(\"mild_array dtype is\",mild_array.dtype)"
   ]
  },
  {
   "cell_type": "code",
   "execution_count": 41,
   "metadata": {},
   "outputs": [
    {
     "name": "stdout",
     "output_type": "stream",
     "text": [
      "moderate_array dtype is uint8\n"
     ]
    }
   ],
   "source": [
    "print(\"moderate_array dtype is\",moderate_array.dtype)"
   ]
  },
  {
   "cell_type": "code",
   "execution_count": 42,
   "metadata": {},
   "outputs": [
    {
     "name": "stdout",
     "output_type": "stream",
     "text": [
      "proliferate_dr_array dtype is uint8\n"
     ]
    }
   ],
   "source": [
    "print(\"proliferate_dr_array dtype is\",proliferate_dr_array.dtype)"
   ]
  },
  {
   "cell_type": "code",
   "execution_count": 43,
   "metadata": {},
   "outputs": [
    {
     "name": "stdout",
     "output_type": "stream",
     "text": [
      "severe_array dtype is uint8\n"
     ]
    }
   ],
   "source": [
    "print(\"severe_array dtype is\",severe_array.dtype)"
   ]
  },
  {
   "cell_type": "code",
   "execution_count": 44,
   "metadata": {},
   "outputs": [
    {
     "name": "stdout",
     "output_type": "stream",
     "text": [
      "num_no_dr: 1805\n"
     ]
    }
   ],
   "source": [
    "print(\"num_no_dr:\",num_no_dr)"
   ]
  },
  {
   "cell_type": "code",
   "execution_count": 45,
   "metadata": {},
   "outputs": [
    {
     "name": "stdout",
     "output_type": "stream",
     "text": [
      "num_mild: 370\n"
     ]
    }
   ],
   "source": [
    "print(\"num_mild:\",num_mild)"
   ]
  },
  {
   "cell_type": "code",
   "execution_count": 46,
   "metadata": {},
   "outputs": [
    {
     "name": "stdout",
     "output_type": "stream",
     "text": [
      "num_moderate: 999\n"
     ]
    }
   ],
   "source": [
    "print(\"num_moderate:\",num_moderate)"
   ]
  },
  {
   "cell_type": "code",
   "execution_count": 47,
   "metadata": {},
   "outputs": [
    {
     "name": "stdout",
     "output_type": "stream",
     "text": [
      "num_proliferate_dr: 295\n"
     ]
    }
   ],
   "source": [
    "print(\"num_proliferate_dr:\",num_proliferate_dr)"
   ]
  },
  {
   "cell_type": "code",
   "execution_count": 48,
   "metadata": {},
   "outputs": [
    {
     "name": "stdout",
     "output_type": "stream",
     "text": [
      "num_severe: 193\n"
     ]
    }
   ],
   "source": [
    "print(\"num_severe:\",num_severe)"
   ]
  },
  {
   "cell_type": "code",
   "execution_count": null,
   "metadata": {},
   "outputs": [],
   "source": []
  },
  {
   "cell_type": "code",
   "execution_count": null,
   "metadata": {},
   "outputs": [],
   "source": []
  },
  {
   "cell_type": "code",
   "execution_count": 49,
   "metadata": {},
   "outputs": [],
   "source": [
    "imagePaths = list(paths.list_images('Dataset'))\n"
   ]
  },
  {
   "cell_type": "code",
   "execution_count": 50,
   "metadata": {},
   "outputs": [
    {
     "data": {
      "text/plain": [
       "['Dataset\\\\Mild\\\\0024cdab0c1e.png',\n",
       " 'Dataset\\\\Mild\\\\00cb6555d108.png',\n",
       " 'Dataset\\\\Mild\\\\0124dffecf29.png',\n",
       " 'Dataset\\\\Mild\\\\01b3aed3ed4c.png',\n",
       " 'Dataset\\\\Mild\\\\0369f3efe69b.png',\n",
       " 'Dataset\\\\Mild\\\\03e25101e8e8.png',\n",
       " 'Dataset\\\\Mild\\\\04ac765f91a1.png',\n",
       " 'Dataset\\\\Mild\\\\059bc89df7f4.png',\n",
       " 'Dataset\\\\Mild\\\\05a5183c92d0.png',\n",
       " 'Dataset\\\\Mild\\\\0684311afdfc.png',\n",
       " 'Dataset\\\\Mild\\\\06b71823f9cd.png',\n",
       " 'Dataset\\\\Mild\\\\07929d32b5b3.png',\n",
       " 'Dataset\\\\Mild\\\\07a1c7073982.png',\n",
       " 'Dataset\\\\Mild\\\\086d41d17da8.png',\n",
       " 'Dataset\\\\Mild\\\\09935d72892b.png',\n",
       " 'Dataset\\\\Mild\\\\0a3202889f4d.png',\n",
       " 'Dataset\\\\Mild\\\\0a61bddab956.png',\n",
       " 'Dataset\\\\Mild\\\\0ad7f631dedb.png',\n",
       " 'Dataset\\\\Mild\\\\0d310aba6373.png',\n",
       " 'Dataset\\\\Mild\\\\0dc031c94225.png',\n",
       " 'Dataset\\\\Mild\\\\0dce95217626.png',\n",
       " 'Dataset\\\\Mild\\\\0eb52045349f.png',\n",
       " 'Dataset\\\\Mild\\\\0f495d87656a.png',\n",
       " 'Dataset\\\\Mild\\\\0fb1053285cf.png',\n",
       " 'Dataset\\\\Mild\\\\101b9ebfc720.png',\n",
       " 'Dataset\\\\Mild\\\\107aea0d9289.png',\n",
       " 'Dataset\\\\Mild\\\\10f36b0239fb.png',\n",
       " 'Dataset\\\\Mild\\\\1116271db4ea.png',\n",
       " 'Dataset\\\\Mild\\\\111898ab463d.png',\n",
       " 'Dataset\\\\Mild\\\\12ce6a1a1f31.png',\n",
       " 'Dataset\\\\Mild\\\\12e3f5f2cb17.png',\n",
       " 'Dataset\\\\Mild\\\\13ab8db8c700.png',\n",
       " 'Dataset\\\\Mild\\\\15cc2aef772a.png',\n",
       " 'Dataset\\\\Mild\\\\172df1330a60.png',\n",
       " 'Dataset\\\\Mild\\\\17eff993386f.png',\n",
       " 'Dataset\\\\Mild\\\\18b06f56ab27.png',\n",
       " 'Dataset\\\\Mild\\\\194814669fee.png',\n",
       " 'Dataset\\\\Mild\\\\19722bff5a09.png',\n",
       " 'Dataset\\\\Mild\\\\19e350c7c83c.png',\n",
       " 'Dataset\\\\Mild\\\\1a03a7970337.png',\n",
       " 'Dataset\\\\Mild\\\\1b329a127307.png',\n",
       " 'Dataset\\\\Mild\\\\1bb0ddfe753a.png',\n",
       " 'Dataset\\\\Mild\\\\1c0cf251b426.png',\n",
       " 'Dataset\\\\Mild\\\\1c3a6b4449e9.png',\n",
       " 'Dataset\\\\Mild\\\\1d11794057ff.png',\n",
       " 'Dataset\\\\Mild\\\\1d674e2e32e0.png',\n",
       " 'Dataset\\\\Mild\\\\1df3e03a8f5f.png',\n",
       " 'Dataset\\\\Mild\\\\1e8a1fdee5b9.png',\n",
       " 'Dataset\\\\Mild\\\\200d947f75db.png',\n",
       " 'Dataset\\\\Mild\\\\22098b1fe461.png',\n",
       " 'Dataset\\\\Mild\\\\22325552a4e3.png',\n",
       " 'Dataset\\\\Mild\\\\22a6da005395.png',\n",
       " 'Dataset\\\\Mild\\\\248139c423c4.png',\n",
       " 'Dataset\\\\Mild\\\\24b943fe725e.png',\n",
       " 'Dataset\\\\Mild\\\\259d30f693b6.png',\n",
       " 'Dataset\\\\Mild\\\\25e9fd872182.png',\n",
       " 'Dataset\\\\Mild\\\\274f5029189b.png',\n",
       " 'Dataset\\\\Mild\\\\278aa860dffd.png',\n",
       " 'Dataset\\\\Mild\\\\27e4c800a449.png',\n",
       " 'Dataset\\\\Mild\\\\28f98cfe3858.png',\n",
       " 'Dataset\\\\Mild\\\\2994f17f58a5.png',\n",
       " 'Dataset\\\\Mild\\\\29b52f64d2db.png',\n",
       " 'Dataset\\\\Mild\\\\2a08ed6bbcbc.png',\n",
       " 'Dataset\\\\Mild\\\\2a8a9e957a6c.png',\n",
       " 'Dataset\\\\Mild\\\\2d7666b8884f.png',\n",
       " 'Dataset\\\\Mild\\\\2d9d97a6e713.png',\n",
       " 'Dataset\\\\Mild\\\\2ecbc2e3f239.png',\n",
       " 'Dataset\\\\Mild\\\\2f2e1949ad56.png',\n",
       " 'Dataset\\\\Mild\\\\2f4e81787d9b.png',\n",
       " 'Dataset\\\\Mild\\\\3044022c6969.png',\n",
       " 'Dataset\\\\Mild\\\\30941b65348b.png',\n",
       " 'Dataset\\\\Mild\\\\30cab14951ac.png',\n",
       " 'Dataset\\\\Mild\\\\31cb39681f6a.png',\n",
       " 'Dataset\\\\Mild\\\\33105f9b3a04.png',\n",
       " 'Dataset\\\\Mild\\\\33b893e18eb3.png',\n",
       " 'Dataset\\\\Mild\\\\33ffddea8c6e.png',\n",
       " 'Dataset\\\\Mild\\\\3461dc601cc2.png',\n",
       " 'Dataset\\\\Mild\\\\358d2224de73.png',\n",
       " 'Dataset\\\\Mild\\\\35aa7f5c2ec0.png',\n",
       " 'Dataset\\\\Mild\\\\35d6c4c50072.png',\n",
       " 'Dataset\\\\Mild\\\\36041171f441.png',\n",
       " 'Dataset\\\\Mild\\\\365f8c01d994.png',\n",
       " 'Dataset\\\\Mild\\\\36677b70b1ef.png',\n",
       " 'Dataset\\\\Mild\\\\382752f6694a.png',\n",
       " 'Dataset\\\\Mild\\\\384631079d1e.png',\n",
       " 'Dataset\\\\Mild\\\\38b9bb961847.png',\n",
       " 'Dataset\\\\Mild\\\\38e0e28d35d3.png',\n",
       " 'Dataset\\\\Mild\\\\3b73a3a4a734.png',\n",
       " 'Dataset\\\\Mild\\\\3c726de3ee90.png',\n",
       " 'Dataset\\\\Mild\\\\3c72f580d4ba.png',\n",
       " 'Dataset\\\\Mild\\\\3dbc90c7ee7d.png',\n",
       " 'Dataset\\\\Mild\\\\3de8ad4151e1.png',\n",
       " 'Dataset\\\\Mild\\\\3ee17aa12e46.png',\n",
       " 'Dataset\\\\Mild\\\\3f73c91b7e32.png',\n",
       " 'Dataset\\\\Mild\\\\4029d70e9d8a.png',\n",
       " 'Dataset\\\\Mild\\\\40e9b5630438.png',\n",
       " 'Dataset\\\\Mild\\\\4393c5bc576a.png',\n",
       " 'Dataset\\\\Mild\\\\45e4b7eada54.png',\n",
       " 'Dataset\\\\Mild\\\\4661006f3ba6.png',\n",
       " 'Dataset\\\\Mild\\\\47d1603a555b.png',\n",
       " 'Dataset\\\\Mild\\\\49386d603494.png',\n",
       " 'Dataset\\\\Mild\\\\494fc9c745a3.png',\n",
       " 'Dataset\\\\Mild\\\\495255c7492f.png',\n",
       " 'Dataset\\\\Mild\\\\49c5e7f6b8d2.png',\n",
       " 'Dataset\\\\Mild\\\\4a213b405ee4.png',\n",
       " 'Dataset\\\\Mild\\\\4aa07d720638.png',\n",
       " 'Dataset\\\\Mild\\\\4c129470cec4.png',\n",
       " 'Dataset\\\\Mild\\\\4c3c1ed09771.png',\n",
       " 'Dataset\\\\Mild\\\\4cae247d9909.png',\n",
       " 'Dataset\\\\Mild\\\\4d7d6928534a.png',\n",
       " 'Dataset\\\\Mild\\\\4da2961e62fe.png',\n",
       " 'Dataset\\\\Mild\\\\4dd5d5ccddcf.png',\n",
       " 'Dataset\\\\Mild\\\\4dd9d29eae5d.png',\n",
       " 'Dataset\\\\Mild\\\\4e0656629d02.png',\n",
       " 'Dataset\\\\Mild\\\\4e6071b73120.png',\n",
       " 'Dataset\\\\Mild\\\\4e82c3c8d31f.png',\n",
       " 'Dataset\\\\Mild\\\\4ecd1fdd1435.png',\n",
       " 'Dataset\\\\Mild\\\\4ef7144e24ff.png',\n",
       " 'Dataset\\\\Mild\\\\4f7755e74a9e.png',\n",
       " 'Dataset\\\\Mild\\\\4fa26d065ad3.png',\n",
       " 'Dataset\\\\Mild\\\\50840c36f0b4.png',\n",
       " 'Dataset\\\\Mild\\\\5090917a2676.png',\n",
       " 'Dataset\\\\Mild\\\\51131b48f9d4.png',\n",
       " 'Dataset\\\\Mild\\\\513b0a4651fa.png',\n",
       " 'Dataset\\\\Mild\\\\523b3f0fc646.png',\n",
       " 'Dataset\\\\Mild\\\\52ae917fcea4.png',\n",
       " 'Dataset\\\\Mild\\\\531b39880c32.png',\n",
       " 'Dataset\\\\Mild\\\\5347b4c8e9b3.png',\n",
       " 'Dataset\\\\Mild\\\\53704c80f0d8.png',\n",
       " 'Dataset\\\\Mild\\\\53f6c1c65c04.png',\n",
       " 'Dataset\\\\Mild\\\\545df1bbcd61.png',\n",
       " 'Dataset\\\\Mild\\\\5548a7961a3e.png',\n",
       " 'Dataset\\\\Mild\\\\55eac26bd383.png',\n",
       " 'Dataset\\\\Mild\\\\5633ced07d8e.png',\n",
       " 'Dataset\\\\Mild\\\\5671eb95512b.png',\n",
       " 'Dataset\\\\Mild\\\\5712e2aa73a2.png',\n",
       " 'Dataset\\\\Mild\\\\5777ef74c9ec.png',\n",
       " 'Dataset\\\\Mild\\\\578109578b46.png',\n",
       " 'Dataset\\\\Mild\\\\58184d6fd087.png',\n",
       " 'Dataset\\\\Mild\\\\582115961a3d.png',\n",
       " 'Dataset\\\\Mild\\\\587146a55885.png',\n",
       " 'Dataset\\\\Mild\\\\5879285f9d8d.png',\n",
       " 'Dataset\\\\Mild\\\\58ccba7eec9c.png',\n",
       " 'Dataset\\\\Mild\\\\595446774178.png',\n",
       " 'Dataset\\\\Mild\\\\59e5212f7139.png',\n",
       " 'Dataset\\\\Mild\\\\5a091e8cd95c.png',\n",
       " 'Dataset\\\\Mild\\\\5b068765e846.png',\n",
       " 'Dataset\\\\Mild\\\\5b0e53f53ef3.png',\n",
       " 'Dataset\\\\Mild\\\\5b72ff04333d.png',\n",
       " 'Dataset\\\\Mild\\\\5b804948e35f.png',\n",
       " 'Dataset\\\\Mild\\\\5cab3ef4b31c.png',\n",
       " 'Dataset\\\\Mild\\\\5efa24b03d5e.png',\n",
       " 'Dataset\\\\Mild\\\\6028a575dc27.png',\n",
       " 'Dataset\\\\Mild\\\\613bacb35c05.png',\n",
       " 'Dataset\\\\Mild\\\\6165081b9021.png',\n",
       " 'Dataset\\\\Mild\\\\61bbe8db6f3a.png',\n",
       " 'Dataset\\\\Mild\\\\6298468d7d75.png',\n",
       " 'Dataset\\\\Mild\\\\63363410389a.png',\n",
       " 'Dataset\\\\Mild\\\\6377e23928f6.png',\n",
       " 'Dataset\\\\Mild\\\\63a03880939c.png',\n",
       " 'Dataset\\\\Mild\\\\64678182d8a8.png',\n",
       " 'Dataset\\\\Mild\\\\64eb5a79dfdd.png',\n",
       " 'Dataset\\\\Mild\\\\655cafb4c932.png',\n",
       " 'Dataset\\\\Mild\\\\65e51e18242b.png',\n",
       " 'Dataset\\\\Mild\\\\665ce639a331.png',\n",
       " 'Dataset\\\\Mild\\\\66cd9c28e636.png',\n",
       " 'Dataset\\\\Mild\\\\6762b2b48ea5.png',\n",
       " 'Dataset\\\\Mild\\\\677f087cd697.png',\n",
       " 'Dataset\\\\Mild\\\\67f5d89da548.png',\n",
       " 'Dataset\\\\Mild\\\\68332fdcaa70.png',\n",
       " 'Dataset\\\\Mild\\\\6b00cb764237.png',\n",
       " 'Dataset\\\\Mild\\\\6b07971c3bf6.png',\n",
       " 'Dataset\\\\Mild\\\\6c6efb6b1358.png',\n",
       " 'Dataset\\\\Mild\\\\6cdd0f985270.png',\n",
       " 'Dataset\\\\Mild\\\\6d292ca4c9ad.png',\n",
       " 'Dataset\\\\Mild\\\\6ea07d19b4ce.png',\n",
       " 'Dataset\\\\Mild\\\\7005be54cab1.png',\n",
       " 'Dataset\\\\Mild\\\\7116128c65ab.png',\n",
       " 'Dataset\\\\Mild\\\\71c1a3cdbe47.png',\n",
       " 'Dataset\\\\Mild\\\\71f6a6e4620a.png',\n",
       " 'Dataset\\\\Mild\\\\7335a2d43ada.png',\n",
       " 'Dataset\\\\Mild\\\\7347f5133a6a.png',\n",
       " 'Dataset\\\\Mild\\\\73881f55a3ec.png',\n",
       " 'Dataset\\\\Mild\\\\7427dedafccf.png',\n",
       " 'Dataset\\\\Mild\\\\756b0d6488bb.png',\n",
       " 'Dataset\\\\Mild\\\\76be29bb30b2.png',\n",
       " 'Dataset\\\\Mild\\\\76e589911303.png',\n",
       " 'Dataset\\\\Mild\\\\77a9538b8362.png',\n",
       " 'Dataset\\\\Mild\\\\78bcdffb8785.png',\n",
       " 'Dataset\\\\Mild\\\\79ce83c07588.png',\n",
       " 'Dataset\\\\Mild\\\\7a3ea1779b13.png',\n",
       " 'Dataset\\\\Mild\\\\7ae69d22075a.png',\n",
       " 'Dataset\\\\Mild\\\\7b20210d9120.png',\n",
       " 'Dataset\\\\Mild\\\\7bf981d9c7fe.png',\n",
       " 'Dataset\\\\Mild\\\\7ccb267fd394.png',\n",
       " 'Dataset\\\\Mild\\\\7ea756985353.png',\n",
       " 'Dataset\\\\Mild\\\\7ef5ff774a48.png',\n",
       " 'Dataset\\\\Mild\\\\7f60f2a083d3.png',\n",
       " 'Dataset\\\\Mild\\\\80a02014b418.png',\n",
       " 'Dataset\\\\Mild\\\\80d24897669f.png',\n",
       " 'Dataset\\\\Mild\\\\8114d6a160df.png',\n",
       " 'Dataset\\\\Mild\\\\821789e9053f.png',\n",
       " 'Dataset\\\\Mild\\\\8273fdb4405e.png',\n",
       " 'Dataset\\\\Mild\\\\82ac8463fadd.png',\n",
       " 'Dataset\\\\Mild\\\\83e529e95b0e.png',\n",
       " 'Dataset\\\\Mild\\\\849a91e9ab28.png',\n",
       " 'Dataset\\\\Mild\\\\84a72e15b23c.png',\n",
       " 'Dataset\\\\Mild\\\\8676427e4625.png',\n",
       " 'Dataset\\\\Mild\\\\8714d17bb6da.png',\n",
       " 'Dataset\\\\Mild\\\\89d9c071a56f.png',\n",
       " 'Dataset\\\\Mild\\\\89ed6a0dd53f.png',\n",
       " 'Dataset\\\\Mild\\\\8a01daa423f7.png',\n",
       " 'Dataset\\\\Mild\\\\8a25a080f28f.png',\n",
       " 'Dataset\\\\Mild\\\\8bbd7835e9aa.png',\n",
       " 'Dataset\\\\Mild\\\\8bc6716c2238.png',\n",
       " 'Dataset\\\\Mild\\\\8c2f0f04e1ed.png',\n",
       " 'Dataset\\\\Mild\\\\8dc22e65c06f.png',\n",
       " 'Dataset\\\\Mild\\\\8ef2eb8c51c4.png',\n",
       " 'Dataset\\\\Mild\\\\8f2996b8d855.png',\n",
       " 'Dataset\\\\Mild\\\\8fc09fecd22f.png',\n",
       " 'Dataset\\\\Mild\\\\8ff863f8874f.png',\n",
       " 'Dataset\\\\Mild\\\\90c982cc2d96.png',\n",
       " 'Dataset\\\\Mild\\\\92d9e9f08709.png',\n",
       " 'Dataset\\\\Mild\\\\93be637084a2.png',\n",
       " 'Dataset\\\\Mild\\\\94111ed3d276.png',\n",
       " 'Dataset\\\\Mild\\\\94372043d55b.png',\n",
       " 'Dataset\\\\Mild\\\\944a233fbf8e.png',\n",
       " 'Dataset\\\\Mild\\\\94b1d8ad35ec.png',\n",
       " 'Dataset\\\\Mild\\\\95a4cc805c7b.png',\n",
       " 'Dataset\\\\Mild\\\\96a9706b8534.png',\n",
       " 'Dataset\\\\Mild\\\\977e1ca77653.png',\n",
       " 'Dataset\\\\Mild\\\\9782c0489eca.png',\n",
       " 'Dataset\\\\Mild\\\\98fbe56dcc2c.png',\n",
       " 'Dataset\\\\Mild\\\\99132193eaa0.png',\n",
       " 'Dataset\\\\Mild\\\\99ecdb41d5e7.png',\n",
       " 'Dataset\\\\Mild\\\\9a3109657ac1.png',\n",
       " 'Dataset\\\\Mild\\\\9eaf735cf01f.png',\n",
       " 'Dataset\\\\Mild\\\\9ed666e982cd.png',\n",
       " 'Dataset\\\\Mild\\\\a00b4cb250a7.png',\n",
       " 'Dataset\\\\Mild\\\\a01024054596.png',\n",
       " 'Dataset\\\\Mild\\\\a19ecd0a706e.png',\n",
       " 'Dataset\\\\Mild\\\\a2696f444ecb.png',\n",
       " 'Dataset\\\\Mild\\\\a28bfb772f50.png',\n",
       " 'Dataset\\\\Mild\\\\a32886cb31ab.png',\n",
       " 'Dataset\\\\Mild\\\\a3ad6c2db6f1.png',\n",
       " 'Dataset\\\\Mild\\\\a3d2a0c4cd17.png',\n",
       " 'Dataset\\\\Mild\\\\a443c4fd489c.png',\n",
       " 'Dataset\\\\Mild\\\\a47432cd41e7.png',\n",
       " 'Dataset\\\\Mild\\\\a5a2a7003d60.png',\n",
       " 'Dataset\\\\Mild\\\\a75bab2463d4.png',\n",
       " 'Dataset\\\\Mild\\\\a77dbec966d4.png',\n",
       " 'Dataset\\\\Mild\\\\a7ec056502e7.png',\n",
       " 'Dataset\\\\Mild\\\\a8582e346df0.png',\n",
       " 'Dataset\\\\Mild\\\\a8c54e2a4b79.png',\n",
       " 'Dataset\\\\Mild\\\\a8c950a99107.png',\n",
       " 'Dataset\\\\Mild\\\\a95858e052d6.png',\n",
       " 'Dataset\\\\Mild\\\\ababe19ed448.png',\n",
       " 'Dataset\\\\Mild\\\\abdb365cacbc.png',\n",
       " 'Dataset\\\\Mild\\\\ad1f7445b1a8.png',\n",
       " 'Dataset\\\\Mild\\\\ad3fc5076852.png',\n",
       " 'Dataset\\\\Mild\\\\ae8472f8d310.png',\n",
       " 'Dataset\\\\Mild\\\\af133a85ea0c.png',\n",
       " 'Dataset\\\\Mild\\\\b07bc463b718.png',\n",
       " 'Dataset\\\\Mild\\\\b1197f2cc9b3.png',\n",
       " 'Dataset\\\\Mild\\\\b17f0b81dab3.png',\n",
       " 'Dataset\\\\Mild\\\\b22354b5f94b.png',\n",
       " 'Dataset\\\\Mild\\\\b4f41b5bf0ef.png',\n",
       " 'Dataset\\\\Mild\\\\b50b30aa6e6c.png',\n",
       " 'Dataset\\\\Mild\\\\b56340f472d2.png',\n",
       " 'Dataset\\\\Mild\\\\b576c5269ad1.png',\n",
       " 'Dataset\\\\Mild\\\\b640e3bdff75.png',\n",
       " 'Dataset\\\\Mild\\\\b6a0e348a01e.png',\n",
       " 'Dataset\\\\Mild\\\\b71428739d4e.png',\n",
       " 'Dataset\\\\Mild\\\\b7278b4f2448.png',\n",
       " 'Dataset\\\\Mild\\\\b8ebedd382de.png',\n",
       " 'Dataset\\\\Mild\\\\b94c58d063bf.png',\n",
       " 'Dataset\\\\Mild\\\\b9b99dad668d.png',\n",
       " 'Dataset\\\\Mild\\\\bacfb1029f6b.png',\n",
       " 'Dataset\\\\Mild\\\\bb11db08584a.png',\n",
       " 'Dataset\\\\Mild\\\\bb45257258cc.png',\n",
       " 'Dataset\\\\Mild\\\\bb783d8e496f.png',\n",
       " 'Dataset\\\\Mild\\\\bb9a3d835a94.png',\n",
       " 'Dataset\\\\Mild\\\\bc73ce76ec43.png',\n",
       " 'Dataset\\\\Mild\\\\bd269a1f0e4d.png',\n",
       " 'Dataset\\\\Mild\\\\bebb3f167654.png',\n",
       " 'Dataset\\\\Mild\\\\bf18ff30a8f6.png',\n",
       " 'Dataset\\\\Mild\\\\c027e5482e8c.png',\n",
       " 'Dataset\\\\Mild\\\\c0968d41eb93.png',\n",
       " 'Dataset\\\\Mild\\\\c0e15e8e2b46.png',\n",
       " 'Dataset\\\\Mild\\\\c0f15fe3b4b7.png',\n",
       " 'Dataset\\\\Mild\\\\c102db7634d8.png',\n",
       " 'Dataset\\\\Mild\\\\c1e6fa1ad314.png',\n",
       " 'Dataset\\\\Mild\\\\c1ebe785503a.png',\n",
       " 'Dataset\\\\Mild\\\\c40976189f22.png',\n",
       " 'Dataset\\\\Mild\\\\c4a8f2fcf6e8.png',\n",
       " 'Dataset\\\\Mild\\\\c56e65f74187.png',\n",
       " 'Dataset\\\\Mild\\\\c739ff9580d3.png',\n",
       " 'Dataset\\\\Mild\\\\c7b622ec8104.png',\n",
       " 'Dataset\\\\Mild\\\\c8fc0df22999.png',\n",
       " 'Dataset\\\\Mild\\\\c9485c38fdd5.png',\n",
       " 'Dataset\\\\Mild\\\\c96f743915b5.png',\n",
       " 'Dataset\\\\Mild\\\\ca1036496659.png',\n",
       " 'Dataset\\\\Mild\\\\ca25745942b0.png',\n",
       " 'Dataset\\\\Mild\\\\ca30a97e9d13.png',\n",
       " 'Dataset\\\\Mild\\\\ca63fe4f4b52.png',\n",
       " 'Dataset\\\\Mild\\\\ca6842bfcbc9.png',\n",
       " 'Dataset\\\\Mild\\\\ca7140ecf389.png',\n",
       " 'Dataset\\\\Mild\\\\cab3dfa7962d.png',\n",
       " 'Dataset\\\\Mild\\\\cae51154e1ce.png',\n",
       " 'Dataset\\\\Mild\\\\cb2f3c5d71a7.png',\n",
       " 'Dataset\\\\Mild\\\\cc12453ea915.png',\n",
       " 'Dataset\\\\Mild\\\\cc9270f06b65.png',\n",
       " 'Dataset\\\\Mild\\\\cd45bfa07d41.png',\n",
       " 'Dataset\\\\Mild\\\\cd5714db652d.png',\n",
       " 'Dataset\\\\Mild\\\\cf0575534cec.png',\n",
       " 'Dataset\\\\Mild\\\\cf603a9ef2d5.png',\n",
       " 'Dataset\\\\Mild\\\\cfd1bd0fcbb4.png',\n",
       " 'Dataset\\\\Mild\\\\d06ccd0cf4b8.png',\n",
       " 'Dataset\\\\Mild\\\\d0d59ed675b5.png',\n",
       " 'Dataset\\\\Mild\\\\d1cad012a254.png',\n",
       " 'Dataset\\\\Mild\\\\d3de0d313d61.png',\n",
       " 'Dataset\\\\Mild\\\\d4f32b9c07df.png',\n",
       " 'Dataset\\\\Mild\\\\d567a1a22d33.png',\n",
       " 'Dataset\\\\Mild\\\\d5b4705ac2ee.png',\n",
       " 'Dataset\\\\Mild\\\\d66b6f333dc7.png',\n",
       " 'Dataset\\\\Mild\\\\d66ccb75ada1.png',\n",
       " 'Dataset\\\\Mild\\\\d6e26fe51dce.png',\n",
       " 'Dataset\\\\Mild\\\\d801c0a66738.png',\n",
       " 'Dataset\\\\Mild\\\\d85588ff2ebd.png',\n",
       " 'Dataset\\\\Mild\\\\d85d052900b4.png',\n",
       " 'Dataset\\\\Mild\\\\da1fb35f5df9.png',\n",
       " 'Dataset\\\\Mild\\\\db4ed1e07aa3.png',\n",
       " 'Dataset\\\\Mild\\\\db690e2d02f8.png',\n",
       " 'Dataset\\\\Mild\\\\dbd062558b81.png',\n",
       " 'Dataset\\\\Mild\\\\dd19428c3d29.png',\n",
       " 'Dataset\\\\Mild\\\\e07045d7c5f7.png',\n",
       " 'Dataset\\\\Mild\\\\e25ccfe38e44.png',\n",
       " 'Dataset\\\\Mild\\\\e26d8718ca58.png',\n",
       " 'Dataset\\\\Mild\\\\e2a233493b90.png',\n",
       " 'Dataset\\\\Mild\\\\e38f3a65b02b.png',\n",
       " 'Dataset\\\\Mild\\\\e55188915f9d.png',\n",
       " 'Dataset\\\\Mild\\\\e580676516b0.png',\n",
       " 'Dataset\\\\Mild\\\\e9286ddf6ffe.png',\n",
       " 'Dataset\\\\Mild\\\\e96bd80a8a53.png',\n",
       " 'Dataset\\\\Mild\\\\e9ff9352ccb3.png',\n",
       " 'Dataset\\\\Mild\\\\ea15a290eb96.png',\n",
       " 'Dataset\\\\Mild\\\\ead23cc922ed.png',\n",
       " 'Dataset\\\\Mild\\\\eba3acc42197.png',\n",
       " 'Dataset\\\\Mild\\\\ec4649213ccf.png',\n",
       " 'Dataset\\\\Mild\\\\ee78ce914066.png',\n",
       " 'Dataset\\\\Mild\\\\eeb231c3ef1f.png',\n",
       " 'Dataset\\\\Mild\\\\eed4afc8ec83.png',\n",
       " 'Dataset\\\\Mild\\\\ef8109305128.png',\n",
       " 'Dataset\\\\Mild\\\\f0c13be90519.png',\n",
       " 'Dataset\\\\Mild\\\\f47a2a4a0411.png',\n",
       " 'Dataset\\\\Mild\\\\f481f76a6b75.png',\n",
       " 'Dataset\\\\Mild\\\\f55e1d2a19e4.png',\n",
       " 'Dataset\\\\Mild\\\\f5650eb52640.png',\n",
       " 'Dataset\\\\Mild\\\\f6f7dba7104d.png',\n",
       " 'Dataset\\\\Mild\\\\f72ef9ceeaa8.png',\n",
       " 'Dataset\\\\Mild\\\\f762c272c522.png',\n",
       " 'Dataset\\\\Mild\\\\f7fec8935126.png',\n",
       " 'Dataset\\\\Mild\\\\fb6b8200b7f8.png',\n",
       " 'Dataset\\\\Mild\\\\fca931da5c5e.png',\n",
       " 'Dataset\\\\Mild\\\\fd62bd0db4f1.png',\n",
       " 'Dataset\\\\Mild\\\\fdd18ccbbdc5.png',\n",
       " 'Dataset\\\\Mild\\\\fe2df69676cf.png',\n",
       " 'Dataset\\\\Mild\\\\fe674c2f73f5.png',\n",
       " 'Dataset\\\\Mild\\\\fea14b3d44b0.png',\n",
       " 'Dataset\\\\Mild\\\\fecf4c5ae84b.png',\n",
       " 'Dataset\\\\Moderate\\\\000c1434d8d7.png',\n",
       " 'Dataset\\\\Moderate\\\\00a8624548a9.png',\n",
       " 'Dataset\\\\Moderate\\\\00b74780d31d.png',\n",
       " 'Dataset\\\\Moderate\\\\00e4ddff966a.png',\n",
       " 'Dataset\\\\Moderate\\\\012a242ac6ff.png',\n",
       " 'Dataset\\\\Moderate\\\\0161338f53cc.png',\n",
       " 'Dataset\\\\Moderate\\\\0180bfa26c0b.png',\n",
       " 'Dataset\\\\Moderate\\\\01c7808d901d.png',\n",
       " 'Dataset\\\\Moderate\\\\01eb826f6467.png',\n",
       " 'Dataset\\\\Moderate\\\\025a169a0bb0.png',\n",
       " 'Dataset\\\\Moderate\\\\026dcd9af143.png',\n",
       " 'Dataset\\\\Moderate\\\\032d7b0b4bf6.png',\n",
       " 'Dataset\\\\Moderate\\\\033f2b43de6d.png',\n",
       " 'Dataset\\\\Moderate\\\\03676c71ed1b.png',\n",
       " 'Dataset\\\\Moderate\\\\03747397839f.png',\n",
       " 'Dataset\\\\Moderate\\\\03fd50da928d.png',\n",
       " 'Dataset\\\\Moderate\\\\03ff7d159f10.png',\n",
       " 'Dataset\\\\Moderate\\\\0415fc68b176.png',\n",
       " 'Dataset\\\\Moderate\\\\041f09eec1e8.png',\n",
       " 'Dataset\\\\Moderate\\\\04a6fc58dabc.png',\n",
       " 'Dataset\\\\Moderate\\\\04d029cfb612.png',\n",
       " 'Dataset\\\\Moderate\\\\0519b934f6b1.png',\n",
       " 'Dataset\\\\Moderate\\\\052d9a3fe55a.png',\n",
       " 'Dataset\\\\Moderate\\\\06024377d573.png',\n",
       " 'Dataset\\\\Moderate\\\\064af6592ba6.png',\n",
       " 'Dataset\\\\Moderate\\\\07083738b75e.png',\n",
       " 'Dataset\\\\Moderate\\\\071435a218ec.png',\n",
       " 'Dataset\\\\Moderate\\\\07419eddd6be.png',\n",
       " 'Dataset\\\\Moderate\\\\07a3be30563b.png',\n",
       " 'Dataset\\\\Moderate\\\\07d8db76b301.png',\n",
       " 'Dataset\\\\Moderate\\\\08752092140d.png',\n",
       " 'Dataset\\\\Moderate\\\\08c17a2d95b7.png',\n",
       " 'Dataset\\\\Moderate\\\\094858f005ab.png',\n",
       " 'Dataset\\\\Moderate\\\\0953c0ac1735.png',\n",
       " 'Dataset\\\\Moderate\\\\09eeafa9656a.png',\n",
       " 'Dataset\\\\Moderate\\\\09f6ab477654.png',\n",
       " 'Dataset\\\\Moderate\\\\0a09aa7356c0.png',\n",
       " 'Dataset\\\\Moderate\\\\0a1076183736.png',\n",
       " 'Dataset\\\\Moderate\\\\0a9ec1e99ce4.png',\n",
       " 'Dataset\\\\Moderate\\\\0ac436400db4.png',\n",
       " 'Dataset\\\\Moderate\\\\0af296d2f04a.png',\n",
       " 'Dataset\\\\Moderate\\\\0afdfe5f422c.png',\n",
       " 'Dataset\\\\Moderate\\\\0c2e2369dfff.png',\n",
       " 'Dataset\\\\Moderate\\\\0c55d58bebaf.png',\n",
       " 'Dataset\\\\Moderate\\\\0c76fd494af6.png',\n",
       " 'Dataset\\\\Moderate\\\\0c7e82daf5a0.png',\n",
       " 'Dataset\\\\Moderate\\\\0ca0aee4d57e.png',\n",
       " 'Dataset\\\\Moderate\\\\0d0a21fd354f.png',\n",
       " 'Dataset\\\\Moderate\\\\0da09e3ce8f1.png',\n",
       " 'Dataset\\\\Moderate\\\\0dbaa09a458c.png',\n",
       " 'Dataset\\\\Moderate\\\\0e75d51152fc.png',\n",
       " 'Dataset\\\\Moderate\\\\0efc93ec838b.png',\n",
       " 'Dataset\\\\Moderate\\\\0eff8eacb2f7.png',\n",
       " 'Dataset\\\\Moderate\\\\0fb560f9adb2.png',\n",
       " 'Dataset\\\\Moderate\\\\0fcfc6301f3d.png',\n",
       " 'Dataset\\\\Moderate\\\\0fd16b64697e.png',\n",
       " 'Dataset\\\\Moderate\\\\0fffa73e2402.png',\n",
       " 'Dataset\\\\Moderate\\\\1006345f70b7.png',\n",
       " 'Dataset\\\\Moderate\\\\10ecc5292ab1.png',\n",
       " 'Dataset\\\\Moderate\\\\10eefba568dd.png',\n",
       " 'Dataset\\\\Moderate\\\\1120f6d08d95.png',\n",
       " 'Dataset\\\\Moderate\\\\1124ffcd76c2.png',\n",
       " 'Dataset\\\\Moderate\\\\115e42dd6a81.png',\n",
       " 'Dataset\\\\Moderate\\\\1177d583c807.png',\n",
       " 'Dataset\\\\Moderate\\\\11b5c77fbf79.png',\n",
       " 'Dataset\\\\Moderate\\\\12025b34deb8.png',\n",
       " 'Dataset\\\\Moderate\\\\1269ab57c2e6.png',\n",
       " 'Dataset\\\\Moderate\\\\12a82fc7d73e.png',\n",
       " 'Dataset\\\\Moderate\\\\12e6e66c80a7.png',\n",
       " 'Dataset\\\\Moderate\\\\13063d1bc4ea.png',\n",
       " 'Dataset\\\\Moderate\\\\135575dc57c9.png',\n",
       " 'Dataset\\\\Moderate\\\\13d71389563f.png',\n",
       " 'Dataset\\\\Moderate\\\\1411c8ab7161.png',\n",
       " 'Dataset\\\\Moderate\\\\1414128bead0.png',\n",
       " 'Dataset\\\\Moderate\\\\141735b57ec0.png',\n",
       " 'Dataset\\\\Moderate\\\\1438288bb2e1.png',\n",
       " 'Dataset\\\\Moderate\\\\144a1a426137.png',\n",
       " 'Dataset\\\\Moderate\\\\144b01e7b993.png',\n",
       " 'Dataset\\\\Moderate\\\\14515b8f19b6.png',\n",
       " 'Dataset\\\\Moderate\\\\14ee87d6cc42.png',\n",
       " 'Dataset\\\\Moderate\\\\1541226c5d72.png',\n",
       " 'Dataset\\\\Moderate\\\\15528e740543.png',\n",
       " 'Dataset\\\\Moderate\\\\157d17349cc6.png',\n",
       " 'Dataset\\\\Moderate\\\\1594ca6c30d3.png',\n",
       " 'Dataset\\\\Moderate\\\\15cd5f52d300.png',\n",
       " 'Dataset\\\\Moderate\\\\1632c4311fc9.png',\n",
       " 'Dataset\\\\Moderate\\\\17188c13e635.png',\n",
       " 'Dataset\\\\Moderate\\\\175dd560810a.png',\n",
       " 'Dataset\\\\Moderate\\\\17eb5d4ad740.png',\n",
       " 'Dataset\\\\Moderate\\\\180afe1d5ef7.png',\n",
       " 'Dataset\\\\Moderate\\\\18323d8f2470.png',\n",
       " 'Dataset\\\\Moderate\\\\1844a039b4ea.png',\n",
       " 'Dataset\\\\Moderate\\\\188a9323be03.png',\n",
       " 'Dataset\\\\Moderate\\\\18af532e7e1e.png',\n",
       " 'Dataset\\\\Moderate\\\\18d8fdb140b7.png',\n",
       " 'Dataset\\\\Moderate\\\\18f1f979d30d.png',\n",
       " 'Dataset\\\\Moderate\\\\19113e5f45ec.png',\n",
       " 'Dataset\\\\Moderate\\\\191348830ddf.png',\n",
       " 'Dataset\\\\Moderate\\\\1943983492e5.png',\n",
       " 'Dataset\\\\Moderate\\\\1968183f0e61.png',\n",
       " 'Dataset\\\\Moderate\\\\196e6a186452.png',\n",
       " 'Dataset\\\\Moderate\\\\1a1b4b2450ca.png',\n",
       " 'Dataset\\\\Moderate\\\\1a369baf9ee6.png',\n",
       " 'Dataset\\\\Moderate\\\\1ade1e949383.png',\n",
       " 'Dataset\\\\Moderate\\\\1ae8c165fd53.png',\n",
       " 'Dataset\\\\Moderate\\\\1b4625877527.png',\n",
       " 'Dataset\\\\Moderate\\\\1b8ad0afe9fb.png',\n",
       " 'Dataset\\\\Moderate\\\\1bea04b2bb2d.png',\n",
       " 'Dataset\\\\Moderate\\\\1c0e5dd1b14c.png',\n",
       " 'Dataset\\\\Moderate\\\\1c4d87baaffc.png',\n",
       " 'Dataset\\\\Moderate\\\\1c578b72d7b3.png',\n",
       " 'Dataset\\\\Moderate\\\\1c5ad36fb799.png',\n",
       " 'Dataset\\\\Moderate\\\\1c5e6cdc7ee1.png',\n",
       " 'Dataset\\\\Moderate\\\\1c6d119c3d70.png',\n",
       " 'Dataset\\\\Moderate\\\\1cb814ed6332.png',\n",
       " 'Dataset\\\\Moderate\\\\1d14dd912671.png',\n",
       " 'Dataset\\\\Moderate\\\\1d55e689cf84.png',\n",
       " 'Dataset\\\\Moderate\\\\1da25637859b.png',\n",
       " 'Dataset\\\\Moderate\\\\1db18bdd43aa.png',\n",
       " 'Dataset\\\\Moderate\\\\1dbdc32c17db.png',\n",
       " 'Dataset\\\\Moderate\\\\1dd9adcbfff4.png',\n",
       " 'Dataset\\\\Moderate\\\\1dfbede13143.png',\n",
       " 'Dataset\\\\Moderate\\\\1e143fa3de57.png',\n",
       " 'Dataset\\\\Moderate\\\\1e1fb019710d.png',\n",
       " 'Dataset\\\\Moderate\\\\1e4650743fa2.png',\n",
       " 'Dataset\\\\Moderate\\\\1e4b3b823b95.png',\n",
       " 'Dataset\\\\Moderate\\\\1ee1eb7943db.png',\n",
       " 'Dataset\\\\Moderate\\\\1f07dae3cadb.png',\n",
       " 'Dataset\\\\Moderate\\\\1f0e223b8055.png',\n",
       " 'Dataset\\\\Moderate\\\\1f4bf8e28b41.png',\n",
       " 'Dataset\\\\Moderate\\\\1f543a86c4d4.png',\n",
       " 'Dataset\\\\Moderate\\\\1f63d44d9e3c.png',\n",
       " 'Dataset\\\\Moderate\\\\1ffaa51a6245.png',\n",
       " 'Dataset\\\\Moderate\\\\203275daf46d.png',\n",
       " 'Dataset\\\\Moderate\\\\20404ec7b518.png',\n",
       " 'Dataset\\\\Moderate\\\\20688cb25704.png',\n",
       " 'Dataset\\\\Moderate\\\\207a580de0ea.png',\n",
       " 'Dataset\\\\Moderate\\\\20c883d3bd38.png',\n",
       " 'Dataset\\\\Moderate\\\\2131aa3a1e6f.png',\n",
       " 'Dataset\\\\Moderate\\\\217dad18a5ed.png',\n",
       " 'Dataset\\\\Moderate\\\\222d0ac042b4.png',\n",
       " 'Dataset\\\\Moderate\\\\2241b7e90782.png',\n",
       " 'Dataset\\\\Moderate\\\\224bb938e2dd.png',\n",
       " 'Dataset\\\\Moderate\\\\22ce8ef69357.png',\n",
       " 'Dataset\\\\Moderate\\\\23148a40ecb0.png',\n",
       " 'Dataset\\\\Moderate\\\\23175b7ef453.png',\n",
       " 'Dataset\\\\Moderate\\\\232549883508.png',\n",
       " 'Dataset\\\\Moderate\\\\234399352d36.png',\n",
       " 'Dataset\\\\Moderate\\\\236f56771ec6.png',\n",
       " 'Dataset\\\\Moderate\\\\2376e5415458.png',\n",
       " 'Dataset\\\\Moderate\\\\239f2c348ea4.png',\n",
       " 'Dataset\\\\Moderate\\\\23d7ca170bdb.png',\n",
       " 'Dataset\\\\Moderate\\\\23fca0693e2a.png',\n",
       " 'Dataset\\\\Moderate\\\\2463bb04ebc3.png',\n",
       " 'Dataset\\\\Moderate\\\\246e4506824a.png',\n",
       " 'Dataset\\\\Moderate\\\\25002fe43f92.png',\n",
       " 'Dataset\\\\Moderate\\\\2532613a584a.png',\n",
       " 'Dataset\\\\Moderate\\\\25dc1b41ed9c.png',\n",
       " 'Dataset\\\\Moderate\\\\2608e1dac5b1.png',\n",
       " 'Dataset\\\\Moderate\\\\261c6bd63bff.png',\n",
       " 'Dataset\\\\Moderate\\\\26453eb7e989.png',\n",
       " 'Dataset\\\\Moderate\\\\26999ebc21de.png',\n",
       " 'Dataset\\\\Moderate\\\\269f0792f11f.png',\n",
       " 'Dataset\\\\Moderate\\\\26e231747848.png',\n",
       " 'Dataset\\\\Moderate\\\\2700754f71e9.png',\n",
       " 'Dataset\\\\Moderate\\\\272d9c043c81.png',\n",
       " 'Dataset\\\\Moderate\\\\2735be026d44.png',\n",
       " 'Dataset\\\\Moderate\\\\2776d70724d3.png',\n",
       " 'Dataset\\\\Moderate\\\\27b68863349f.png',\n",
       " 'Dataset\\\\Moderate\\\\27bab1432f61.png',\n",
       " 'Dataset\\\\Moderate\\\\27fca9f12b3c.png',\n",
       " 'Dataset\\\\Moderate\\\\282bc792d23a.png',\n",
       " 'Dataset\\\\Moderate\\\\28824d12d31d.png',\n",
       " 'Dataset\\\\Moderate\\\\28a4d00927b7.png',\n",
       " 'Dataset\\\\Moderate\\\\28f93cad89c5.png',\n",
       " 'Dataset\\\\Moderate\\\\290ecdba359f.png',\n",
       " 'Dataset\\\\Moderate\\\\291e2ff3d834.png',\n",
       " 'Dataset\\\\Moderate\\\\29580bed2f7d.png',\n",
       " 'Dataset\\\\Moderate\\\\295fdc964f6e.png',\n",
       " 'Dataset\\\\Moderate\\\\2967e578939f.png',\n",
       " 'Dataset\\\\Moderate\\\\29f44aea93a4.png',\n",
       " 'Dataset\\\\Moderate\\\\2a099b247b10.png',\n",
       " 'Dataset\\\\Moderate\\\\2a3378bcfbcc.png',\n",
       " 'Dataset\\\\Moderate\\\\2a3a1ed1c285.png',\n",
       " 'Dataset\\\\Moderate\\\\2a47e5b21791.png',\n",
       " 'Dataset\\\\Moderate\\\\2a5a8b744f08.png',\n",
       " 'Dataset\\\\Moderate\\\\2af1bf226f51.png',\n",
       " 'Dataset\\\\Moderate\\\\2b074afdf626.png',\n",
       " 'Dataset\\\\Moderate\\\\2b07790a2422.png',\n",
       " 'Dataset\\\\Moderate\\\\2b21d293fdf2.png',\n",
       " 'Dataset\\\\Moderate\\\\2b88cb6e31cd.png',\n",
       " 'Dataset\\\\Moderate\\\\2ba0b0d9bda2.png',\n",
       " 'Dataset\\\\Moderate\\\\2bd4d4fbed5c.png',\n",
       " 'Dataset\\\\Moderate\\\\2c1d5be654dd.png',\n",
       " 'Dataset\\\\Moderate\\\\2c2aa057afc5.png',\n",
       " 'Dataset\\\\Moderate\\\\2cbfc6182ba2.png',\n",
       " 'Dataset\\\\Moderate\\\\2cceb07ff706.png',\n",
       " 'Dataset\\\\Moderate\\\\2cef97083e6f.png',\n",
       " 'Dataset\\\\Moderate\\\\2d552318eb07.png',\n",
       " 'Dataset\\\\Moderate\\\\2d870833c0c9.png',\n",
       " 'Dataset\\\\Moderate\\\\2e26762daed5.png',\n",
       " 'Dataset\\\\Moderate\\\\2e79041ef722.png',\n",
       " 'Dataset\\\\Moderate\\\\2f5c9cdfb333.png',\n",
       " 'Dataset\\\\Moderate\\\\2f9b66784109.png',\n",
       " 'Dataset\\\\Moderate\\\\2fb3a8606a77.png',\n",
       " 'Dataset\\\\Moderate\\\\2fdffb6160a6.png',\n",
       " 'Dataset\\\\Moderate\\\\300305ce82d2.png',\n",
       " 'Dataset\\\\Moderate\\\\302bcdb635ff.png',\n",
       " 'Dataset\\\\Moderate\\\\308f7fce6f0d.png',\n",
       " 'Dataset\\\\Moderate\\\\310c27067ac0.png',\n",
       " 'Dataset\\\\Moderate\\\\3128eb593012.png',\n",
       " 'Dataset\\\\Moderate\\\\31452ad8808c.png',\n",
       " 'Dataset\\\\Moderate\\\\314862758acf.png',\n",
       " 'Dataset\\\\Moderate\\\\31b5d6fb0256.png',\n",
       " 'Dataset\\\\Moderate\\\\3246f07e65b4.png',\n",
       " 'Dataset\\\\Moderate\\\\32a3eb37ff40.png',\n",
       " 'Dataset\\\\Moderate\\\\331b87d1b9d1.png',\n",
       " 'Dataset\\\\Moderate\\\\33e8e26a75d4.png',\n",
       " 'Dataset\\\\Moderate\\\\3402124408ea.png',\n",
       " 'Dataset\\\\Moderate\\\\3428230bf1bd.png',\n",
       " 'Dataset\\\\Moderate\\\\34723fae6475.png',\n",
       " 'Dataset\\\\Moderate\\\\349f3c0ac83e.png',\n",
       " 'Dataset\\\\Moderate\\\\354b8911d6ed.png',\n",
       " 'Dataset\\\\Moderate\\\\362c4a96cebb.png',\n",
       " 'Dataset\\\\Moderate\\\\367c7049929c.png',\n",
       " 'Dataset\\\\Moderate\\\\36a1e3c780a0.png',\n",
       " 'Dataset\\\\Moderate\\\\36ec36c301c1.png',\n",
       " 'Dataset\\\\Moderate\\\\3748349334f6.png',\n",
       " 'Dataset\\\\Moderate\\\\37de05ef12a5.png',\n",
       " 'Dataset\\\\Moderate\\\\38487e1a5b1f.png',\n",
       " 'Dataset\\\\Moderate\\\\388f12e8df0b.png',\n",
       " 'Dataset\\\\Moderate\\\\38e111cac46f.png',\n",
       " 'Dataset\\\\Moderate\\\\38fe9f854046.png',\n",
       " 'Dataset\\\\Moderate\\\\39134907127a.png',\n",
       " 'Dataset\\\\Moderate\\\\39923b29988a.png',\n",
       " 'Dataset\\\\Moderate\\\\39b5b05d6cd9.png',\n",
       " 'Dataset\\\\Moderate\\\\3a122851e526.png',\n",
       " 'Dataset\\\\Moderate\\\\3a1d3ce00f0c.png',\n",
       " 'Dataset\\\\Moderate\\\\3a61e690f4bb.png',\n",
       " 'Dataset\\\\Moderate\\\\3aa2b1ce6700.png',\n",
       " 'Dataset\\\\Moderate\\\\3b58b02c89ed.png',\n",
       " 'Dataset\\\\Moderate\\\\3b9c1f42c2f2.png',\n",
       " 'Dataset\\\\Moderate\\\\3c1efa38d0da.png',\n",
       " 'Dataset\\\\Moderate\\\\3c311c9109b0.png',\n",
       " 'Dataset\\\\Moderate\\\\3c53198519f7.png',\n",
       " 'Dataset\\\\Moderate\\\\3cd801ffdbf0.png',\n",
       " 'Dataset\\\\Moderate\\\\3cdda8b3df19.png',\n",
       " 'Dataset\\\\Moderate\\\\3d3e288d490e.png',\n",
       " 'Dataset\\\\Moderate\\\\3d663a6a50a3.png',\n",
       " 'Dataset\\\\Moderate\\\\3dbfbc11e105.png',\n",
       " 'Dataset\\\\Moderate\\\\3ddb86eb530e.png',\n",
       " 'Dataset\\\\Moderate\\\\3dfc50108072.png',\n",
       " 'Dataset\\\\Moderate\\\\3e1f8fecb06f.png',\n",
       " 'Dataset\\\\Moderate\\\\3e6bfc4d5c65.png',\n",
       " 'Dataset\\\\Moderate\\\\3e86335bc2fd.png',\n",
       " 'Dataset\\\\Moderate\\\\3f3de2a6b0f5.png',\n",
       " 'Dataset\\\\Moderate\\\\3f47f83217b5.png',\n",
       " 'Dataset\\\\Moderate\\\\3f5b4c2948e8.png',\n",
       " 'Dataset\\\\Moderate\\\\3f8d5c940ba4.png',\n",
       " 'Dataset\\\\Moderate\\\\3fc219927a97.png',\n",
       " 'Dataset\\\\Moderate\\\\3fd7df6099e3.png',\n",
       " 'Dataset\\\\Moderate\\\\3ffa14d60b24.png',\n",
       " 'Dataset\\\\Moderate\\\\40140a925c43.png',\n",
       " 'Dataset\\\\Moderate\\\\40527a5e95dd.png',\n",
       " 'Dataset\\\\Moderate\\\\417f408ee8e0.png',\n",
       " 'Dataset\\\\Moderate\\\\4189d4e631ec.png',\n",
       " 'Dataset\\\\Moderate\\\\419406328dcd.png',\n",
       " 'Dataset\\\\Moderate\\\\423abbaa5fad.png',\n",
       " 'Dataset\\\\Moderate\\\\4242c0d87f57.png',\n",
       " 'Dataset\\\\Moderate\\\\4246ed634f25.png',\n",
       " 'Dataset\\\\Moderate\\\\4289af3afbd2.png',\n",
       " 'Dataset\\\\Moderate\\\\42a67337fa8e.png',\n",
       " 'Dataset\\\\Moderate\\\\42a850acd2ac.png',\n",
       " 'Dataset\\\\Moderate\\\\42b08dca9b2f.png',\n",
       " 'Dataset\\\\Moderate\\\\42b93b574f23.png',\n",
       " 'Dataset\\\\Moderate\\\\435d900fa7b2.png',\n",
       " 'Dataset\\\\Moderate\\\\436e1793d240.png',\n",
       " 'Dataset\\\\Moderate\\\\437900a99871.png',\n",
       " 'Dataset\\\\Moderate\\\\437cbec4a3f8.png',\n",
       " 'Dataset\\\\Moderate\\\\4384fa687afa.png',\n",
       " 'Dataset\\\\Moderate\\\\43ddd0ab0cc4.png',\n",
       " 'Dataset\\\\Moderate\\\\43fb6eda9b97.png',\n",
       " 'Dataset\\\\Moderate\\\\441117562359.png',\n",
       " 'Dataset\\\\Moderate\\\\441affbe99aa.png',\n",
       " 'Dataset\\\\Moderate\\\\4478b870e549.png',\n",
       " 'Dataset\\\\Moderate\\\\44855f666225.png',\n",
       " 'Dataset\\\\Moderate\\\\4489d421e5aa.png',\n",
       " 'Dataset\\\\Moderate\\\\44c869174e3a.png',\n",
       " 'Dataset\\\\Moderate\\\\44e0d56e9d42.png',\n",
       " 'Dataset\\\\Moderate\\\\44e951e45dca.png',\n",
       " 'Dataset\\\\Moderate\\\\44f4ae58990e.png',\n",
       " 'Dataset\\\\Moderate\\\\453a1e2754b2.png',\n",
       " 'Dataset\\\\Moderate\\\\453d553b0a94.png',\n",
       " 'Dataset\\\\Moderate\\\\45ae04cfde5d.png',\n",
       " 'Dataset\\\\Moderate\\\\45c39ab9e797.png',\n",
       " 'Dataset\\\\Moderate\\\\460893cd86e3.png',\n",
       " 'Dataset\\\\Moderate\\\\465c618f7b23.png',\n",
       " 'Dataset\\\\Moderate\\\\467b7d9d811c.png',\n",
       " 'Dataset\\\\Moderate\\\\46923eea9a4e.png',\n",
       " 'Dataset\\\\Moderate\\\\46c1548d730e.png',\n",
       " 'Dataset\\\\Moderate\\\\46f56c38051f.png',\n",
       " 'Dataset\\\\Moderate\\\\475c7ded0f7a.png',\n",
       " 'Dataset\\\\Moderate\\\\47b756014447.png',\n",
       " 'Dataset\\\\Moderate\\\\47e51065b819.png',\n",
       " 'Dataset\\\\Moderate\\\\4818672273af.png',\n",
       " 'Dataset\\\\Moderate\\\\48543037d0b3.png',\n",
       " 'Dataset\\\\Moderate\\\\48afe8c47454.png',\n",
       " 'Dataset\\\\Moderate\\\\48c49f662f7d.png',\n",
       " 'Dataset\\\\Moderate\\\\48c72dec46e5.png',\n",
       " 'Dataset\\\\Moderate\\\\48fda42bd5d4.png',\n",
       " 'Dataset\\\\Moderate\\\\49419f8d5cb4.png',\n",
       " 'Dataset\\\\Moderate\\\\49a4765f8822.png',\n",
       " 'Dataset\\\\Moderate\\\\49d69c4c6290.png',\n",
       " 'Dataset\\\\Moderate\\\\4a0890b08532.png',\n",
       " 'Dataset\\\\Moderate\\\\4a0bba3b7d83.png',\n",
       " 'Dataset\\\\Moderate\\\\4a44cc840ebe.png',\n",
       " 'Dataset\\\\Moderate\\\\4a558a1cd243.png',\n",
       " 'Dataset\\\\Moderate\\\\4ad6109706e8.png',\n",
       " 'Dataset\\\\Moderate\\\\4b1001050f1d.png',\n",
       " 'Dataset\\\\Moderate\\\\4b422b48d0d4.png',\n",
       " 'Dataset\\\\Moderate\\\\4b5ffea77373.png',\n",
       " 'Dataset\\\\Moderate\\\\4c52922f3bfd.png',\n",
       " 'Dataset\\\\Moderate\\\\4c78d9d18da9.png',\n",
       " 'Dataset\\\\Moderate\\\\4ce74e5eb51d.png',\n",
       " 'Dataset\\\\Moderate\\\\4d009cebabc9.png',\n",
       " 'Dataset\\\\Moderate\\\\4d1cf360b2d7.png',\n",
       " 'Dataset\\\\Moderate\\\\4d21ce39c905.png',\n",
       " 'Dataset\\\\Moderate\\\\4da6e2089d57.png',\n",
       " 'Dataset\\\\Moderate\\\\4dbce359d0e1.png',\n",
       " 'Dataset\\\\Moderate\\\\4e43d05cc2ef.png',\n",
       " 'Dataset\\\\Moderate\\\\4e7694eebb91.png',\n",
       " 'Dataset\\\\Moderate\\\\4ed31cc07366.png',\n",
       " 'Dataset\\\\Moderate\\\\4ee1ad981a6d.png',\n",
       " 'Dataset\\\\Moderate\\\\4ef0b485a7da.png',\n",
       " 'Dataset\\\\Moderate\\\\4f20f9a9a65b.png',\n",
       " 'Dataset\\\\Moderate\\\\4f46d7ee61ed.png',\n",
       " 'Dataset\\\\Moderate\\\\4f60129e9a5b.png',\n",
       " 'Dataset\\\\Moderate\\\\50d8a8fb7737.png',\n",
       " 'Dataset\\\\Moderate\\\\51030843fde2.png',\n",
       " 'Dataset\\\\Moderate\\\\510aa0a898fa.png',\n",
       " 'Dataset\\\\Moderate\\\\51405d042000.png',\n",
       " 'Dataset\\\\Moderate\\\\5152bf091152.png',\n",
       " 'Dataset\\\\Moderate\\\\5173d54fc214.png',\n",
       " 'Dataset\\\\Moderate\\\\5188a8afa879.png',\n",
       " 'Dataset\\\\Moderate\\\\51cfeccaf40d.png',\n",
       " 'Dataset\\\\Moderate\\\\51d0034d177d.png',\n",
       " 'Dataset\\\\Moderate\\\\51d574513bcb.png',\n",
       " 'Dataset\\\\Moderate\\\\51d780864365.png',\n",
       " 'Dataset\\\\Moderate\\\\521d3e264d71.png',\n",
       " 'Dataset\\\\Moderate\\\\52230bbef30e.png',\n",
       " 'Dataset\\\\Moderate\\\\523d0c2cb4d6.png',\n",
       " 'Dataset\\\\Moderate\\\\523ff163211b.png',\n",
       " 'Dataset\\\\Moderate\\\\524f240e0c90.png',\n",
       " 'Dataset\\\\Moderate\\\\525acfea47e8.png',\n",
       " 'Dataset\\\\Moderate\\\\5265dc9acdf8.png',\n",
       " 'Dataset\\\\Moderate\\\\527bea76116c.png',\n",
       " 'Dataset\\\\Moderate\\\\52886bed8a07.png',\n",
       " 'Dataset\\\\Moderate\\\\52dbec057cc8.png',\n",
       " 'Dataset\\\\Moderate\\\\530d78467615.png',\n",
       " 'Dataset\\\\Moderate\\\\5327f88a1919.png',\n",
       " 'Dataset\\\\Moderate\\\\541db13517e2.png',\n",
       " 'Dataset\\\\Moderate\\\\547b37da9223.png',\n",
       " 'Dataset\\\\Moderate\\\\5486da4273d7.png',\n",
       " 'Dataset\\\\Moderate\\\\54bbe3da103e.png',\n",
       " 'Dataset\\\\Moderate\\\\54cab3596214.png',\n",
       " 'Dataset\\\\Moderate\\\\54dc6e8107cd.png',\n",
       " 'Dataset\\\\Moderate\\\\55034b1dbff2.png',\n",
       " 'Dataset\\\\Moderate\\\\55092c0071eb.png',\n",
       " 'Dataset\\\\Moderate\\\\55fd453001cc.png',\n",
       " 'Dataset\\\\Moderate\\\\56e56aa08362.png',\n",
       " 'Dataset\\\\Moderate\\\\5723d0ec895e.png',\n",
       " 'Dataset\\\\Moderate\\\\57469423a012.png',\n",
       " 'Dataset\\\\Moderate\\\\57760be09c03.png',\n",
       " 'Dataset\\\\Moderate\\\\57a5f1015504.png',\n",
       " 'Dataset\\\\Moderate\\\\57ce57a8cfb0.png',\n",
       " 'Dataset\\\\Moderate\\\\57f933d3d7c7.png',\n",
       " 'Dataset\\\\Moderate\\\\582f739b8f62.png',\n",
       " 'Dataset\\\\Moderate\\\\58529a8638d0.png',\n",
       " 'Dataset\\\\Moderate\\\\5905a9b06a73.png',\n",
       " 'Dataset\\\\Moderate\\\\594f69b503ad.png',\n",
       " 'Dataset\\\\Moderate\\\\599b89048034.png',\n",
       " 'Dataset\\\\Moderate\\\\59ee65760535.png',\n",
       " 'Dataset\\\\Moderate\\\\59f3f70abddd.png',\n",
       " 'Dataset\\\\Moderate\\\\5a03fe3ed15c.png',\n",
       " 'Dataset\\\\Moderate\\\\5a11d21c2828.png',\n",
       " 'Dataset\\\\Moderate\\\\5a2c27b95c7c.png',\n",
       " 'Dataset\\\\Moderate\\\\5a36cea278ae.png',\n",
       " 'Dataset\\\\Moderate\\\\5a5d3798c357.png',\n",
       " 'Dataset\\\\Moderate\\\\5b301a6d1ac7.png',\n",
       " 'Dataset\\\\Moderate\\\\5b644a403e1f.png',\n",
       " 'Dataset\\\\Moderate\\\\5c6194562ed2.png',\n",
       " 'Dataset\\\\Moderate\\\\5c8482926a08.png',\n",
       " 'Dataset\\\\Moderate\\\\5cc6dea19614.png',\n",
       " 'Dataset\\\\Moderate\\\\5cde55f745af.png',\n",
       " 'Dataset\\\\Moderate\\\\5cf9127f251a.png',\n",
       " 'Dataset\\\\Moderate\\\\5d024177e214.png',\n",
       " 'Dataset\\\\Moderate\\\\5dc23e440de3.png',\n",
       " 'Dataset\\\\Moderate\\\\5e18af29d812.png',\n",
       " 'Dataset\\\\Moderate\\\\5e52c9fe676f.png',\n",
       " 'Dataset\\\\Moderate\\\\5e7630f8438e.png',\n",
       " 'Dataset\\\\Moderate\\\\5e7cc6ab4ac4.png',\n",
       " 'Dataset\\\\Moderate\\\\5eb311bcb5f9.png',\n",
       " 'Dataset\\\\Moderate\\\\5ed6dc419e4d.png',\n",
       " 'Dataset\\\\Moderate\\\\5f70ad48a525.png',\n",
       " 'Dataset\\\\Moderate\\\\60e269e3e188.png',\n",
       " 'Dataset\\\\Moderate\\\\60eeae3ba23d.png',\n",
       " 'Dataset\\\\Moderate\\\\61ac9b0dc6b9.png',\n",
       " 'Dataset\\\\Moderate\\\\61c2fbd16e38.png',\n",
       " 'Dataset\\\\Moderate\\\\624fb7317106.png',\n",
       " 'Dataset\\\\Moderate\\\\62ab144d5cee.png',\n",
       " 'Dataset\\\\Moderate\\\\62cc7ddb53b6.png',\n",
       " 'Dataset\\\\Moderate\\\\62e6f814c8f5.png',\n",
       " 'Dataset\\\\Moderate\\\\62ecdc90dd42.png',\n",
       " 'Dataset\\\\Moderate\\\\6363b360aefb.png',\n",
       " 'Dataset\\\\Moderate\\\\63c3c571b8ee.png',\n",
       " 'Dataset\\\\Moderate\\\\63d217b059b6.png',\n",
       " 'Dataset\\\\Moderate\\\\64a13949e879.png',\n",
       " 'Dataset\\\\Moderate\\\\650fbed3fdca.png',\n",
       " 'Dataset\\\\Moderate\\\\6531070bf03c.png',\n",
       " 'Dataset\\\\Moderate\\\\653534ded339.png',\n",
       " 'Dataset\\\\Moderate\\\\657859f893d9.png',\n",
       " 'Dataset\\\\Moderate\\\\65e530ee2e79.png',\n",
       " 'Dataset\\\\Moderate\\\\663a923d5398.png',\n",
       " 'Dataset\\\\Moderate\\\\6666c4f18396.png',\n",
       " 'Dataset\\\\Moderate\\\\668e853258cd.png',\n",
       " 'Dataset\\\\Moderate\\\\66bae1ba227f.png',\n",
       " 'Dataset\\\\Moderate\\\\66d2ca47aa44.png',\n",
       " 'Dataset\\\\Moderate\\\\6733544ae7a6.png',\n",
       " 'Dataset\\\\Moderate\\\\674057ab250c.png',\n",
       " 'Dataset\\\\Moderate\\\\67844c46bc61.png',\n",
       " 'Dataset\\\\Moderate\\\\67c03349bb31.png',\n",
       " 'Dataset\\\\Moderate\\\\6810410187a0.png',\n",
       " 'Dataset\\\\Moderate\\\\681c3c115684.png',\n",
       " 'Dataset\\\\Moderate\\\\686ed1dbae20.png',\n",
       " 'Dataset\\\\Moderate\\\\6889bc64ab09.png',\n",
       " 'Dataset\\\\Moderate\\\\69591ebb198d.png',\n",
       " 'Dataset\\\\Moderate\\\\6987804eb464.png',\n",
       " 'Dataset\\\\Moderate\\\\698d6e422a80.png',\n",
       " 'Dataset\\\\Moderate\\\\69df7ade0575.png',\n",
       " 'Dataset\\\\Moderate\\\\6a91eb157f47.png',\n",
       " 'Dataset\\\\Moderate\\\\6b7cf869622a.png',\n",
       " 'Dataset\\\\Moderate\\\\6b869f37cdf3.png',\n",
       " 'Dataset\\\\Moderate\\\\6ba5ed791444.png',\n",
       " 'Dataset\\\\Moderate\\\\6c2555a9cae4.png',\n",
       " 'Dataset\\\\Moderate\\\\6c315ad3d07f.png',\n",
       " 'Dataset\\\\Moderate\\\\6cb98da77e3e.png',\n",
       " 'Dataset\\\\Moderate\\\\6cbc3dad809c.png',\n",
       " 'Dataset\\\\Moderate\\\\6d3d1fe6c32a.png',\n",
       " 'Dataset\\\\Moderate\\\\6d454444f17c.png',\n",
       " 'Dataset\\\\Moderate\\\\6dcde47060f9.png',\n",
       " 'Dataset\\\\Moderate\\\\6dfd80748e72.png',\n",
       " 'Dataset\\\\Moderate\\\\6e092b306fe1.png',\n",
       " 'Dataset\\\\Moderate\\\\6e68e742f5bc.png',\n",
       " 'Dataset\\\\Moderate\\\\6f0463c1ff18.png',\n",
       " 'Dataset\\\\Moderate\\\\6f4e0538d1e4.png',\n",
       " 'Dataset\\\\Moderate\\\\709784f7fcc2.png',\n",
       " 'Dataset\\\\Moderate\\\\70ed3ec68b94.png',\n",
       " 'Dataset\\\\Moderate\\\\70f5caf5f305.png',\n",
       " 'Dataset\\\\Moderate\\\\7102f29e052e.png',\n",
       " 'Dataset\\\\Moderate\\\\711d1480d2e3.png',\n",
       " 'Dataset\\\\Moderate\\\\71e4130bf5c8.png',\n",
       " 'Dataset\\\\Moderate\\\\7247a2c97f71.png',\n",
       " 'Dataset\\\\Moderate\\\\731b19a460ad.png',\n",
       " 'Dataset\\\\Moderate\\\\7350c50667c5.png',\n",
       " 'Dataset\\\\Moderate\\\\7356dd08b0ae.png',\n",
       " 'Dataset\\\\Moderate\\\\73e83a07a16d.png',\n",
       " 'Dataset\\\\Moderate\\\\74418f620068.png',\n",
       " 'Dataset\\\\Moderate\\\\7455e2b5fc57.png',\n",
       " 'Dataset\\\\Moderate\\\\7550966ef777.png',\n",
       " 'Dataset\\\\Moderate\\\\757572337fd0.png',\n",
       " 'Dataset\\\\Moderate\\\\75a7bc945b7d.png',\n",
       " 'Dataset\\\\Moderate\\\\760b6f4c6d82.png',\n",
       " 'Dataset\\\\Moderate\\\\7663aba8d762.png',\n",
       " 'Dataset\\\\Moderate\\\\76c0c7e1b6cb.png',\n",
       " 'Dataset\\\\Moderate\\\\76cfe8967f7d.png',\n",
       " 'Dataset\\\\Moderate\\\\76e6a9238570.png',\n",
       " 'Dataset\\\\Moderate\\\\76fe19ff64fb.png',\n",
       " 'Dataset\\\\Moderate\\\\7743f4e04a6d.png',\n",
       " 'Dataset\\\\Moderate\\\\77543f66a84a.png',\n",
       " 'Dataset\\\\Moderate\\\\77baa08a1345.png',\n",
       " 'Dataset\\\\Moderate\\\\77e7c7a160c8.png',\n",
       " 'Dataset\\\\Moderate\\\\77f69c7ff324.png',\n",
       " 'Dataset\\\\Moderate\\\\7877be80901c.png',\n",
       " 'Dataset\\\\Moderate\\\\78a577c3e0bf.png',\n",
       " 'Dataset\\\\Moderate\\\\78d53c82a23e.png',\n",
       " 'Dataset\\\\Moderate\\\\79059d0592c4.png',\n",
       " 'Dataset\\\\Moderate\\\\79540be95177.png',\n",
       " 'Dataset\\\\Moderate\\\\799cb4c816ae.png',\n",
       " 'Dataset\\\\Moderate\\\\79be2ff796bf.png',\n",
       " 'Dataset\\\\Moderate\\\\7a0cff4c24b2.png',\n",
       " 'Dataset\\\\Moderate\\\\7b8c78b41c0d.png',\n",
       " 'Dataset\\\\Moderate\\\\7bc2e0fa3f72.png',\n",
       " 'Dataset\\\\Moderate\\\\7bda86d95c5b.png',\n",
       " 'Dataset\\\\Moderate\\\\7c2f820a6425.png',\n",
       " 'Dataset\\\\Moderate\\\\7c52fe73e748.png',\n",
       " 'Dataset\\\\Moderate\\\\7d1b40fdbd86.png',\n",
       " 'Dataset\\\\Moderate\\\\7d1da90d3ca9.png',\n",
       " 'Dataset\\\\Moderate\\\\7d261f986bef.png',\n",
       " 'Dataset\\\\Moderate\\\\7d37a2939f12.png',\n",
       " 'Dataset\\\\Moderate\\\\7d8f67cadc29.png',\n",
       " 'Dataset\\\\Moderate\\\\7dee6bf8b9c1.png',\n",
       " 'Dataset\\\\Moderate\\\\7e6e90a93aa5.png',\n",
       " 'Dataset\\\\Moderate\\\\7e9458de5707.png',\n",
       " 'Dataset\\\\Moderate\\\\7ec1ffe8220b.png',\n",
       " 'Dataset\\\\Moderate\\\\7f6ce40f306b.png',\n",
       " 'Dataset\\\\Moderate\\\\7f84284598f5.png',\n",
       " 'Dataset\\\\Moderate\\\\8000a6b97a84.png',\n",
       " 'Dataset\\\\Moderate\\\\803120c5d287.png',\n",
       " 'Dataset\\\\Moderate\\\\807135cbc438.png',\n",
       " 'Dataset\\\\Moderate\\\\80b5a9519aec.png',\n",
       " 'Dataset\\\\Moderate\\\\80feb1f7ca5e.png',\n",
       " 'Dataset\\\\Moderate\\\\812d5adafaf2.png',\n",
       " 'Dataset\\\\Moderate\\\\81b0a2651c45.png',\n",
       " 'Dataset\\\\Moderate\\\\81bc03e2ff2b.png',\n",
       " 'Dataset\\\\Moderate\\\\82910bba4753.png',\n",
       " 'Dataset\\\\Moderate\\\\82deb07a6618.png',\n",
       " 'Dataset\\\\Moderate\\\\82f2784ead76.png',\n",
       " 'Dataset\\\\Moderate\\\\83b61051737f.png',\n",
       " 'Dataset\\\\Moderate\\\\83d6e40c869f.png',\n",
       " 'Dataset\\\\Moderate\\\\840527bc6628.png',\n",
       " 'Dataset\\\\Moderate\\\\8421107255ae.png',\n",
       " 'Dataset\\\\Moderate\\\\842d697884f6.png',\n",
       " 'Dataset\\\\Moderate\\\\8446826853d0.png',\n",
       " 'Dataset\\\\Moderate\\\\84e8c62165b5.png',\n",
       " 'Dataset\\\\Moderate\\\\8543a801dce0.png',\n",
       " 'Dataset\\\\Moderate\\\\855f0a5442b6.png',\n",
       " 'Dataset\\\\Moderate\\\\857002ed4e49.png',\n",
       " 'Dataset\\\\Moderate\\\\85cc6d636898.png',\n",
       " 'Dataset\\\\Moderate\\\\85fce24084da.png',\n",
       " 'Dataset\\\\Moderate\\\\86722fcd802c.png',\n",
       " 'Dataset\\\\Moderate\\\\869bbd3170cc.png',\n",
       " 'Dataset\\\\Moderate\\\\86b3a7929bec.png',\n",
       " 'Dataset\\\\Moderate\\\\86baef833ae0.png',\n",
       " 'Dataset\\\\Moderate\\\\86e7f98f73f1.png',\n",
       " 'Dataset\\\\Moderate\\\\86fbac86ed3e.png',\n",
       " 'Dataset\\\\Moderate\\\\873fe0404d6e.png',\n",
       " 'Dataset\\\\Moderate\\\\876e1dd12d38.png',\n",
       " 'Dataset\\\\Moderate\\\\878a3a097436.png',\n",
       " 'Dataset\\\\Moderate\\\\879744b9dc65.png',\n",
       " 'Dataset\\\\Moderate\\\\87b1938994b5.png',\n",
       " 'Dataset\\\\Moderate\\\\882a71de424e.png',\n",
       " 'Dataset\\\\Moderate\\\\8860c7b11530.png',\n",
       " 'Dataset\\\\Moderate\\\\8871e6a26596.png',\n",
       " 'Dataset\\\\Moderate\\\\891392c9683c.png',\n",
       " 'Dataset\\\\Moderate\\\\89b044cbaf85.png',\n",
       " 'Dataset\\\\Moderate\\\\89b725411cee.png',\n",
       " 'Dataset\\\\Moderate\\\\89d2a7403a06.png',\n",
       " 'Dataset\\\\Moderate\\\\89ee1fa16f90.png',\n",
       " 'Dataset\\\\Moderate\\\\89fc080f7e83.png',\n",
       " 'Dataset\\\\Moderate\\\\8a67f1efa315.png',\n",
       " 'Dataset\\\\Moderate\\\\8a759f94613a.png',\n",
       " 'Dataset\\\\Moderate\\\\8aab201c0691.png',\n",
       " 'Dataset\\\\Moderate\\\\8ab8d9b3ce3f.png',\n",
       " 'Dataset\\\\Moderate\\\\8acffaf1f4b9.png',\n",
       " 'Dataset\\\\Moderate\\\\8b26d3cd61e8.png',\n",
       " 'Dataset\\\\Moderate\\\\8bdb891661a8.png',\n",
       " 'Dataset\\\\Moderate\\\\8c87bd748996.png',\n",
       " 'Dataset\\\\Moderate\\\\8cb6b0efaaac.png',\n",
       " 'Dataset\\\\Moderate\\\\8cb6b5b2f19c.png',\n",
       " 'Dataset\\\\Moderate\\\\8d3d67661620.png',\n",
       " 'Dataset\\\\Moderate\\\\8d62ba9cb22a.png',\n",
       " 'Dataset\\\\Moderate\\\\8d7bb0649a02.png',\n",
       " 'Dataset\\\\Moderate\\\\8dba09a4e5ed.png',\n",
       " 'Dataset\\\\Moderate\\\\8dfa629ca74e.png',\n",
       " 'Dataset\\\\Moderate\\\\8dfff47b06b7.png',\n",
       " 'Dataset\\\\Moderate\\\\8e20b8fac7c3.png',\n",
       " 'Dataset\\\\Moderate\\\\8e3b79e1f1f7.png',\n",
       " 'Dataset\\\\Moderate\\\\8e63fc4ab532.png',\n",
       " 'Dataset\\\\Moderate\\\\8eb3337a54e9.png',\n",
       " 'Dataset\\\\Moderate\\\\8f1e7433a95d.png',\n",
       " 'Dataset\\\\Moderate\\\\8ff2733f6aef.png',\n",
       " 'Dataset\\\\Moderate\\\\9033f1493da1.png',\n",
       " 'Dataset\\\\Moderate\\\\9041eb43456e.png',\n",
       " 'Dataset\\\\Moderate\\\\907aaff827e5.png',\n",
       " 'Dataset\\\\Moderate\\\\913b1890ed1e.png',\n",
       " 'Dataset\\\\Moderate\\\\917f76f360b6.png',\n",
       " 'Dataset\\\\Moderate\\\\91a88d3b0358.png',\n",
       " 'Dataset\\\\Moderate\\\\91cbe1c775ef.png',\n",
       " 'Dataset\\\\Moderate\\\\91e2c2890c9f.png',\n",
       " 'Dataset\\\\Moderate\\\\91e8af9ceee9.png',\n",
       " 'Dataset\\\\Moderate\\\\921433215353.png',\n",
       " 'Dataset\\\\Moderate\\\\929cd3867815.png',\n",
       " 'Dataset\\\\Moderate\\\\92b0d27fc0ec.png',\n",
       " 'Dataset\\\\Moderate\\\\92d8a7c8e718.png',\n",
       " 'Dataset\\\\Moderate\\\\92f313287a29.png',\n",
       " 'Dataset\\\\Moderate\\\\932181b93b2f.png',\n",
       " 'Dataset\\\\Moderate\\\\94a67ec0714f.png',\n",
       " 'Dataset\\\\Moderate\\\\94dcb491143f.png',\n",
       " 'Dataset\\\\Moderate\\\\9568eb7e9c08.png',\n",
       " 'Dataset\\\\Moderate\\\\959dc602febc.png',\n",
       " 'Dataset\\\\Moderate\\\\962cf85e4f6d.png',\n",
       " 'Dataset\\\\Moderate\\\\96c3e3db68bc.png',\n",
       " 'Dataset\\\\Moderate\\\\96d48b073f18.png',\n",
       " 'Dataset\\\\Moderate\\\\975252e325e3.png',\n",
       " 'Dataset\\\\Moderate\\\\9785805af1b8.png',\n",
       " 'Dataset\\\\Moderate\\\\97a5ad7548b7.png',\n",
       " 'Dataset\\\\Moderate\\\\97bf61736b86.png',\n",
       " 'Dataset\\\\Moderate\\\\98104c8c67eb.png',\n",
       " 'Dataset\\\\Moderate\\\\9837048b85dc.png',\n",
       " 'Dataset\\\\Moderate\\\\98e8adcf085c.png',\n",
       " 'Dataset\\\\Moderate\\\\98f48850ebce.png',\n",
       " 'Dataset\\\\Moderate\\\\98f7136d2e7a.png',\n",
       " 'Dataset\\\\Moderate\\\\9904939ab83d.png',\n",
       " 'Dataset\\\\Moderate\\\\999115d9386b.png',\n",
       " 'Dataset\\\\Moderate\\\\99e8bf998285.png',\n",
       " 'Dataset\\\\Moderate\\\\9a28d4e8aef0.png',\n",
       " 'Dataset\\\\Moderate\\\\9a3c03a5ad0f.png',\n",
       " 'Dataset\\\\Moderate\\\\9a4f370d341b.png',\n",
       " 'Dataset\\\\Moderate\\\\9a78c6a7b1c2.png',\n",
       " 'Dataset\\\\Moderate\\\\9a7bd084395e.png',\n",
       " 'Dataset\\\\Moderate\\\\9a9b21215c55.png',\n",
       " 'Dataset\\\\Moderate\\\\9ad92f1c1542.png',\n",
       " 'Dataset\\\\Moderate\\\\9b0eb9f41da4.png',\n",
       " 'Dataset\\\\Moderate\\\\9b32e8ef0ca0.png',\n",
       " 'Dataset\\\\Moderate\\\\9b418ce42c13.png',\n",
       " 'Dataset\\\\Moderate\\\\9b7b6e4db1d5.png',\n",
       " 'Dataset\\\\Moderate\\\\9b95d6203406.png',\n",
       " 'Dataset\\\\Moderate\\\\9c088d2d1559.png',\n",
       " 'Dataset\\\\Moderate\\\\9c5dd3612f0c.png',\n",
       " 'Dataset\\\\Moderate\\\\9cedf5c7016b.png',\n",
       " 'Dataset\\\\Moderate\\\\9d74428188bb.png',\n",
       " 'Dataset\\\\Moderate\\\\9d98a0b585f2.png',\n",
       " 'Dataset\\\\Moderate\\\\9d9bfefa809c.png',\n",
       " 'Dataset\\\\Moderate\\\\9da74370835a.png',\n",
       " 'Dataset\\\\Moderate\\\\9dab2e6ba44b.png',\n",
       " 'Dataset\\\\Moderate\\\\9df31421cdd2.png',\n",
       " 'Dataset\\\\Moderate\\\\9e5ec293267c.png',\n",
       " 'Dataset\\\\Moderate\\\\9eaac43744f5.png',\n",
       " 'Dataset\\\\Moderate\\\\9f1efb799b7b.png',\n",
       " 'Dataset\\\\Moderate\\\\9f4132bd6ed6.png',\n",
       " ...]"
      ]
     },
     "execution_count": 50,
     "metadata": {},
     "output_type": "execute_result"
    }
   ],
   "source": [
    "imagePaths"
   ]
  },
  {
   "cell_type": "code",
   "execution_count": 51,
   "metadata": {},
   "outputs": [],
   "source": [
    "width,height=224,224"
   ]
  },
  {
   "cell_type": "code",
   "execution_count": 52,
   "metadata": {},
   "outputs": [],
   "source": [
    "data = []\n",
    "labels = []"
   ]
  },
  {
   "cell_type": "code",
   "execution_count": null,
   "metadata": {},
   "outputs": [],
   "source": []
  },
  {
   "cell_type": "code",
   "execution_count": 53,
   "metadata": {},
   "outputs": [],
   "source": [
    "for imagePath in imagePaths:\n",
    "    label = imagePath.split(os.path.sep)[-2]   \n",
    "    image = load_img(imagePath, target_size=(width, height))\n",
    "    image = img_to_array(image)\n",
    "    data.append(image)\n",
    "    labels.append(label)"
   ]
  },
  {
   "cell_type": "code",
   "execution_count": 54,
   "metadata": {},
   "outputs": [],
   "source": [
    "data = np.array(data, dtype=\"float32\")\n",
    "labels = np.array(labels)"
   ]
  },
  {
   "cell_type": "code",
   "execution_count": 55,
   "metadata": {},
   "outputs": [],
   "source": [
    "lb = LabelBinarizer()\n",
    "labels = lb.fit_transform(labels)"
   ]
  },
  {
   "cell_type": "code",
   "execution_count": 56,
   "metadata": {},
   "outputs": [
    {
     "data": {
      "text/plain": [
       "array(['Mild', 'Moderate', 'No_DR', 'Proliferate_DR', 'Severe', 'predict'],\n",
       "      dtype='<U14')"
      ]
     },
     "execution_count": 56,
     "metadata": {},
     "output_type": "execute_result"
    }
   ],
   "source": [
    "lb.classes_"
   ]
  },
  {
   "cell_type": "code",
   "execution_count": 57,
   "metadata": {},
   "outputs": [],
   "source": [
    "data, labels = shuffle(data, labels)"
   ]
  },
  {
   "cell_type": "code",
   "execution_count": 58,
   "metadata": {},
   "outputs": [
    {
     "name": "stdout",
     "output_type": "stream",
     "text": [
      "(3664, 224, 224, 3)\n",
      "(3664, 6)\n"
     ]
    }
   ],
   "source": [
    "print(data.shape)\n",
    "print(labels.shape)"
   ]
  },
  {
   "cell_type": "code",
   "execution_count": 59,
   "metadata": {},
   "outputs": [],
   "source": [
    "x_train, x_test, y_train, y_test = train_test_split(data, labels, test_size=.2)"
   ]
  },
  {
   "cell_type": "code",
   "execution_count": 60,
   "metadata": {},
   "outputs": [],
   "source": [
    "x_train, x_val, y_train, y_val = train_test_split(x_train, y_train, test_size=.2)"
   ]
  },
  {
   "cell_type": "code",
   "execution_count": 61,
   "metadata": {},
   "outputs": [],
   "source": [
    "def create_model() -> None:\n",
    "    model = Sequential()\n",
    "    model.add(Conv2D(8, (3,3), padding=\"valid\", input_shape=(224,224,3), activation='relu'))\n",
    "    model.add(MaxPooling2D(pool_size=(2,2)))\n",
    "    model.add(BatchNormalization())\n",
    "    model.add(Conv2D(16,(3,3), padding=\"valid\",activation='relu'))\n",
    "    model.add(MaxPooling2D(pool_size=(2,2)))\n",
    "    model.add(BatchNormalization())\n",
    "    model.add(Conv2D(32,(4,4),padding=\"valid\",activation='relu'))\n",
    "    model.add(MaxPooling2D(pool_size = (2,2)))\n",
    "    model.add(BatchNormalization())\n",
    "    model.add(Flatten())\n",
    "    model.add(Dense(32,activation='relu'))\n",
    "    model.add(Dropout(0.15))\n",
    "    model.add(Dense(6,activation='sigmoid'))\n",
    "    return model"
   ]
  },
  {
   "cell_type": "code",
   "execution_count": 62,
   "metadata": {},
   "outputs": [
    {
     "name": "stdout",
     "output_type": "stream",
     "text": [
      "WARNING:tensorflow:From C:\\Users\\vcr03\\AppData\\Roaming\\Python\\Python37\\site-packages\\tensorflow\\python\\ops\\init_ops.py:1251: calling VarianceScaling.__init__ (from tensorflow.python.ops.init_ops) with dtype is deprecated and will be removed in a future version.\n",
      "Instructions for updating:\n",
      "Call initializer instance with the dtype argument instead of passing it to the constructor\n"
     ]
    }
   ],
   "source": [
    "model = create_model()"
   ]
  },
  {
   "cell_type": "code",
   "execution_count": 63,
   "metadata": {},
   "outputs": [
    {
     "name": "stdout",
     "output_type": "stream",
     "text": [
      "WARNING:tensorflow:From C:\\Users\\vcr03\\AppData\\Roaming\\Python\\Python37\\site-packages\\tensorflow\\python\\ops\\nn_impl.py:180: add_dispatch_support.<locals>.wrapper (from tensorflow.python.ops.array_ops) is deprecated and will be removed in a future version.\n",
      "Instructions for updating:\n",
      "Use tf.where in 2.0, which has the same broadcast rule as np.where\n"
     ]
    }
   ],
   "source": [
    "model.compile(optimizer = Adam(learning_rate=1e-5), loss = BinaryCrossentropy(),metrics=['acc'])"
   ]
  },
  {
   "cell_type": "code",
   "execution_count": 64,
   "metadata": {},
   "outputs": [],
   "source": [
    "es = EarlyStopping(monitor='val_loss',min_delta=0,patience=5,verbose=0,mode='auto',)"
   ]
  },
  {
   "cell_type": "code",
   "execution_count": 65,
   "metadata": {},
   "outputs": [],
   "source": [
    "es1 = ModelCheckpoint(r'./model{epoch:08d}-{acc}.h5', save_freq=5)"
   ]
  },
  {
   "cell_type": "code",
   "execution_count": 66,
   "metadata": {},
   "outputs": [],
   "source": [
    "def plot_curves(history):\n",
    "    loss = history.history[\"loss\"]\n",
    "    val_loss = history.history[\"val_loss\"]\n",
    "    accuracy = history.history[\"acc\"]\n",
    "    val_accuracy = history.history[\"val_acc\"]\n",
    "    epochs = range(len(history.history[\"loss\"]))\n",
    "\n",
    "    plt.plot(epochs, loss, label = \"training_loss\")\n",
    "    plt.plot(epochs, val_loss, label = \"val_loss\")\n",
    "    plt.title(\"loss\")\n",
    "    plt.xlabel(\"epochs\")\n",
    "    plt.legend()\n",
    "\n",
    "    plt.figure() \n",
    "    plt.plot(epochs, accuracy, label = \"training_accuracy\")\n",
    "    plt.plot(epochs, val_accuracy, label = \"val_accuracy\")\n",
    "    plt.title(\"accuracy\")\n",
    "    plt.xlabel(\"epochs\")\n",
    "    plt.legend()"
   ]
  },
  {
   "cell_type": "code",
   "execution_count": 67,
   "metadata": {},
   "outputs": [
    {
     "name": "stdout",
     "output_type": "stream",
     "text": [
      "Train on 2344 samples, validate on 587 samples\n",
      "Epoch 1/50\n",
      "2344/2344 [==============================] - 33s 14ms/sample - loss: 0.6926 - acc: 0.6294 - val_loss: 1.7198 - val_acc: 0.4929\n",
      "Epoch 2/50\n",
      "2344/2344 [==============================] - 36s 15ms/sample - loss: 0.4050 - acc: 0.8358 - val_loss: 1.0235 - val_acc: 0.4284\n",
      "Epoch 3/50\n",
      "2344/2344 [==============================] - 34s 14ms/sample - loss: 0.3373 - acc: 0.8663 - val_loss: 0.6197 - val_acc: 0.6147\n",
      "Epoch 4/50\n",
      "2344/2344 [==============================] - 32s 14ms/sample - loss: 0.3057 - acc: 0.8791 - val_loss: 0.3894 - val_acc: 0.8541\n",
      "Epoch 5/50\n",
      "2344/2344 [==============================] - 32s 14ms/sample - loss: 0.2920 - acc: 0.8860 - val_loss: 0.2981 - val_acc: 0.8969\n",
      "Epoch 6/50\n",
      "2344/2344 [==============================] - 32s 14ms/sample - loss: 0.2823 - acc: 0.8904 - val_loss: 0.2596 - val_acc: 0.9094\n",
      "Epoch 7/50\n",
      "2344/2344 [==============================] - 32s 14ms/sample - loss: 0.2722 - acc: 0.8921 - val_loss: 0.2442 - val_acc: 0.9131\n",
      "Epoch 8/50\n",
      "2344/2344 [==============================] - 32s 14ms/sample - loss: 0.2673 - acc: 0.8926 - val_loss: 0.2374 - val_acc: 0.9131\n",
      "Epoch 9/50\n",
      "2344/2344 [==============================] - 32s 14ms/sample - loss: 0.2606 - acc: 0.8970 - val_loss: 0.2327 - val_acc: 0.9145\n",
      "Epoch 10/50\n",
      "2344/2344 [==============================] - 32s 14ms/sample - loss: 0.2528 - acc: 0.9015 - val_loss: 0.2303 - val_acc: 0.9131\n",
      "Epoch 11/50\n",
      "2344/2344 [==============================] - 32s 14ms/sample - loss: 0.2503 - acc: 0.9013 - val_loss: 0.2280 - val_acc: 0.9143\n",
      "Epoch 12/50\n",
      "2344/2344 [==============================] - 32s 14ms/sample - loss: 0.2452 - acc: 0.9044 - val_loss: 0.2269 - val_acc: 0.9140\n",
      "Epoch 13/50\n",
      "2344/2344 [==============================] - 32s 14ms/sample - loss: 0.2432 - acc: 0.9054 - val_loss: 0.2252 - val_acc: 0.9125\n",
      "Epoch 14/50\n",
      "2344/2344 [==============================] - 32s 14ms/sample - loss: 0.2455 - acc: 0.9028 - val_loss: 0.2245 - val_acc: 0.9140\n",
      "Epoch 15/50\n",
      "2344/2344 [==============================] - 32s 14ms/sample - loss: 0.2386 - acc: 0.9044 - val_loss: 0.2227 - val_acc: 0.9143\n",
      "Epoch 16/50\n",
      "2344/2344 [==============================] - 32s 14ms/sample - loss: 0.2295 - acc: 0.9078 - val_loss: 0.2217 - val_acc: 0.9174\n",
      "Epoch 17/50\n",
      "2344/2344 [==============================] - 32s 14ms/sample - loss: 0.2300 - acc: 0.9070 - val_loss: 0.2208 - val_acc: 0.9165\n",
      "Epoch 18/50\n",
      "2344/2344 [==============================] - 33s 14ms/sample - loss: 0.2316 - acc: 0.9095 - val_loss: 0.2198 - val_acc: 0.9165\n",
      "Epoch 19/50\n",
      "2344/2344 [==============================] - 34s 14ms/sample - loss: 0.2270 - acc: 0.9110 - val_loss: 0.2188 - val_acc: 0.9174\n",
      "Epoch 20/50\n",
      "2344/2344 [==============================] - 35s 15ms/sample - loss: 0.2217 - acc: 0.9115 - val_loss: 0.2173 - val_acc: 0.9179\n",
      "Epoch 21/50\n",
      "2344/2344 [==============================] - 33s 14ms/sample - loss: 0.2207 - acc: 0.9140 - val_loss: 0.2165 - val_acc: 0.9174\n",
      "Epoch 22/50\n",
      "2344/2344 [==============================] - 34s 15ms/sample - loss: 0.2158 - acc: 0.9152 - val_loss: 0.2149 - val_acc: 0.9194\n",
      "Epoch 23/50\n",
      "2344/2344 [==============================] - 36s 15ms/sample - loss: 0.2139 - acc: 0.9157 - val_loss: 0.2143 - val_acc: 0.9188\n",
      "Epoch 24/50\n",
      "2344/2344 [==============================] - 34s 14ms/sample - loss: 0.2186 - acc: 0.9134 - val_loss: 0.2136 - val_acc: 0.9188\n",
      "Epoch 25/50\n",
      "2344/2344 [==============================] - 34s 15ms/sample - loss: 0.2101 - acc: 0.9167 - val_loss: 0.2126 - val_acc: 0.9205\n",
      "Epoch 26/50\n",
      "2344/2344 [==============================] - 36s 15ms/sample - loss: 0.2127 - acc: 0.9135 - val_loss: 0.2124 - val_acc: 0.9196\n",
      "Epoch 27/50\n",
      "2344/2344 [==============================] - 32s 14ms/sample - loss: 0.2075 - acc: 0.9172 - val_loss: 0.2114 - val_acc: 0.9205\n",
      "Epoch 28/50\n",
      "2344/2344 [==============================] - 33s 14ms/sample - loss: 0.2060 - acc: 0.9202 - val_loss: 0.2124 - val_acc: 0.9196\n",
      "Epoch 29/50\n",
      "2344/2344 [==============================] - 32s 14ms/sample - loss: 0.2018 - acc: 0.9197 - val_loss: 0.2113 - val_acc: 0.9211\n",
      "Epoch 30/50\n",
      "2344/2344 [==============================] - 34s 14ms/sample - loss: 0.1996 - acc: 0.9219 - val_loss: 0.2098 - val_acc: 0.9222\n",
      "Epoch 31/50\n",
      "2344/2344 [==============================] - 33s 14ms/sample - loss: 0.1994 - acc: 0.9226 - val_loss: 0.2095 - val_acc: 0.9242\n",
      "Epoch 32/50\n",
      "2344/2344 [==============================] - 34s 14ms/sample - loss: 0.1960 - acc: 0.9236 - val_loss: 0.2096 - val_acc: 0.9214\n",
      "Epoch 33/50\n",
      "2344/2344 [==============================] - 33s 14ms/sample - loss: 0.1961 - acc: 0.9239 - val_loss: 0.2092 - val_acc: 0.9214\n",
      "Epoch 34/50\n",
      "2344/2344 [==============================] - 35s 15ms/sample - loss: 0.1955 - acc: 0.9237 - val_loss: 0.2083 - val_acc: 0.9222\n",
      "Epoch 35/50\n",
      "2344/2344 [==============================] - 36s 15ms/sample - loss: 0.1897 - acc: 0.9244 - val_loss: 0.2088 - val_acc: 0.9219\n",
      "Epoch 36/50\n",
      "2344/2344 [==============================] - 32s 14ms/sample - loss: 0.1878 - acc: 0.9278 - val_loss: 0.2073 - val_acc: 0.9216\n",
      "Epoch 37/50\n",
      "2344/2344 [==============================] - 33s 14ms/sample - loss: 0.1874 - acc: 0.9260 - val_loss: 0.2077 - val_acc: 0.9228\n",
      "Epoch 38/50\n",
      "2344/2344 [==============================] - 32s 14ms/sample - loss: 0.1861 - acc: 0.9275 - val_loss: 0.2073 - val_acc: 0.9219\n",
      "Epoch 39/50\n",
      "2344/2344 [==============================] - 32s 14ms/sample - loss: 0.1837 - acc: 0.9291 - val_loss: 0.2069 - val_acc: 0.9208\n",
      "Epoch 40/50\n",
      "2344/2344 [==============================] - 32s 14ms/sample - loss: 0.1838 - acc: 0.9276 - val_loss: 0.2063 - val_acc: 0.9205\n",
      "Epoch 41/50\n",
      "2344/2344 [==============================] - 33s 14ms/sample - loss: 0.1835 - acc: 0.9271 - val_loss: 0.2061 - val_acc: 0.9222\n",
      "Epoch 42/50\n",
      "2344/2344 [==============================] - 33s 14ms/sample - loss: 0.1764 - acc: 0.9319 - val_loss: 0.2057 - val_acc: 0.9214\n",
      "Epoch 43/50\n",
      "2344/2344 [==============================] - 35s 15ms/sample - loss: 0.1757 - acc: 0.9322 - val_loss: 0.2053 - val_acc: 0.9214\n",
      "Epoch 44/50\n",
      "2344/2344 [==============================] - 35s 15ms/sample - loss: 0.1789 - acc: 0.9286 - val_loss: 0.2054 - val_acc: 0.9211\n",
      "Epoch 45/50\n",
      "2344/2344 [==============================] - 32s 14ms/sample - loss: 0.1756 - acc: 0.9322 - val_loss: 0.2051 - val_acc: 0.9214\n",
      "Epoch 46/50\n",
      "2344/2344 [==============================] - 33s 14ms/sample - loss: 0.1734 - acc: 0.9333 - val_loss: 0.2047 - val_acc: 0.9222\n",
      "Epoch 47/50\n",
      "2344/2344 [==============================] - 32s 14ms/sample - loss: 0.1688 - acc: 0.9341 - val_loss: 0.2045 - val_acc: 0.9219\n",
      "Epoch 48/50\n",
      "2344/2344 [==============================] - 34s 14ms/sample - loss: 0.1667 - acc: 0.9374 - val_loss: 0.2039 - val_acc: 0.9214\n",
      "Epoch 49/50\n",
      "2344/2344 [==============================] - 36s 15ms/sample - loss: 0.1639 - acc: 0.9373 - val_loss: 0.2045 - val_acc: 0.9208\n",
      "Epoch 50/50\n",
      "2344/2344 [==============================] - 33s 14ms/sample - loss: 0.1642 - acc: 0.9377 - val_loss: 0.2040 - val_acc: 0.9216\n"
     ]
    }
   ],
   "source": [
    "history = model.fit(x_train , y_train , epochs=50 , batch_size=64,\n",
    "                    validation_data=(x_val,y_val), verbose=1 , callbacks = [es,es1])"
   ]
  },
  {
   "cell_type": "code",
   "execution_count": 68,
   "metadata": {},
   "outputs": [
    {
     "data": {
      "image/png": "[encoded data removed]",
      "text/plain": [
       "<Figure size 432x288 with 1 Axes>"
      ]
     },
     "metadata": {
      "needs_background": "light"
     },
     "output_type": "display_data"
    },
    {
     "data": {
      "image/png": "[encoded data removed]",
      "text/plain": [
       "<Figure size 432x288 with 1 Axes>"
      ]
     },
     "metadata": {
      "needs_background": "light"
     },
     "output_type": "display_data"
    }
   ],
   "source": [
    "plot_curves(history)"
   ]
  },
  {
   "cell_type": "markdown",
   "metadata": {},
   "source": [
    "# score = model.evaluate(x_test,y_test)"
   ]
  },
  {
   "cell_type": "code",
   "execution_count": 69,
   "metadata": {},
   "outputs": [],
   "source": [
    "predictions=[\"Mild\",\"Moderate\",\"NO_DR\",\"Proliferate_DR\",\"Severe\"] "
   ]
  },
  {
   "cell_type": "code",
   "execution_count": 70,
   "metadata": {},
   "outputs": [],
   "source": [
    "pred = model.predict(x_test)\n",
    "pred = np.argmax(pred,axis=1)"
   ]
  },
  {
   "cell_type": "code",
   "execution_count": 71,
   "metadata": {},
   "outputs": [],
   "source": [
    "def predict_new(path):\n",
    "    img = cv2.imread(path)\n",
    "\n",
    "    RGBImg = cv2.cvtColor(img,cv2.COLOR_BGR2RGB)\n",
    "    RGBImg= cv2.resize(RGBImg,(224,224))\n",
    "    plt.imshow(RGBImg)\n",
    "    image = np.array(RGBImg) / 255.0\n",
    "\n",
    "    predict=model.predict(np.array([image]))\n",
    "    print(predict)\n",
    "    pred=np.argmax(predict,axis=1)\n",
    "    print(pred)\n",
    "    print(f\"Predicted: {predictions[pred[0]]}\")"
   ]
  },
  {
   "cell_type": "code",
   "execution_count": 72,
   "metadata": {},
   "outputs": [
    {
     "name": "stderr",
     "output_type": "stream",
     "text": [
      "Clipping input data to the valid range for imshow with RGB data ([0..1] for floats or [0..255] for integers).\n"
     ]
    },
    {
     "name": "stdout",
     "output_type": "stream",
     "text": [
      "[0 0 1 0 0 0]\n",
      "Prediction: NO_DR\n"
     ]
    },
    {
     "data": {
      "image/png": "[encoded data removed]",
      "text/plain": [
       "<Figure size 432x288 with 1 Axes>"
      ]
     },
     "metadata": {
      "needs_background": "light"
     },
     "output_type": "display_data"
    }
   ],
   "source": [
    "index =np.random.randint(1, len(x_test))\n",
    "img = x_test[index]\n",
    "RGBImg = cv2.cvtColor(img,cv2.COLOR_BGR2RGB)\n",
    "RGBImg= cv2.resize(RGBImg,(224,224))\n",
    "\n",
    "plt.imshow(RGBImg)\n",
    "print(y_test[index])\n",
    "print(f\"Prediction: {predictions[pred[index]]}\")"
   ]
  },
  {
   "cell_type": "code",
   "execution_count": 73,
   "metadata": {},
   "outputs": [],
   "source": [
    "Vgg16 = VGG16(include_top=False, input_shape= (224,224,3)) \n",
    "Vgg16.trainable=False"
   ]
  },
  {
   "cell_type": "code",
   "execution_count": 74,
   "metadata": {},
   "outputs": [
    {
     "name": "stdout",
     "output_type": "stream",
     "text": [
      "[[0.2839101  0.97299236 0.00682189 0.06394861 0.9854305  0.58574075]]\n",
      "[4]\n",
      "Predicted: Severe\n"
     ]
    },
    {
     "data": {
      "image/png": "[encoded data removed]",
      "text/plain": [
       "<Figure size 432x288 with 1 Axes>"
      ]
     },
     "metadata": {
      "needs_background": "light"
     },
     "output_type": "display_data"
    }
   ],
   "source": [
    "predict_new(\"Dataset/Moderate/000c1434d8d7.png\")"
   ]
  },
  {
   "cell_type": "code",
   "execution_count": 76,
   "metadata": {
    "scrolled": false
   },
   "outputs": [
    {
     "ename": "NameError",
     "evalue": "name 'create_tr_model' is not defined",
     "output_type": "error",
     "traceback": [
      "\u001b[1;31m---------------------------------------------------------------------------\u001b[0m",
      "\u001b[1;31mNameError\u001b[0m                                 Traceback (most recent call last)",
      "\u001b[1;32m<ipython-input-76-a573c52e5088>\u001b[0m in \u001b[0;36m<module>\u001b[1;34m\u001b[0m\n\u001b[1;32m----> 1\u001b[1;33m \u001b[0mmodel\u001b[0m \u001b[1;33m=\u001b[0m \u001b[0mcreate_tr_model\u001b[0m\u001b[1;33m(\u001b[0m\u001b[1;33m)\u001b[0m\u001b[1;33m\u001b[0m\u001b[1;33m\u001b[0m\u001b[0m\n\u001b[0m",
      "\u001b[1;31mNameError\u001b[0m: name 'create_tr_model' is not defined"
     ]
    }
   ],
   "source": [
    "model = create_tr_model()"
   ]
  },
  {
   "cell_type": "code",
   "execution_count": null,
   "metadata": {},
   "outputs": [],
   "source": [
    "def create_tr_model():\n",
    "    model = Sequential()\n",
    "    model.add(Vgg16)\n",
    "    model.add(Dropout(0.25))\n",
    "    model.add(Flatten())\n",
    "    model.add(Dense(64 , activation=\"relu\"))\n",
    "    model.add(Dropout(0.25))\n",
    "    model.add(Dense(32 , activation=\"relu\"))\n",
    "    model.add(Dense(6, activation=\"sigmoid\"))\n",
    "    return model"
   ]
  },
  {
   "cell_type": "code",
   "execution_count": null,
   "metadata": {},
   "outputs": [],
   "source": [
    "model.compile( optimizer=\"adam\" , loss = BinaryCrossentropy(),metrics=['acc'])"
   ]
  },
  {
   "cell_type": "code",
   "execution_count": null,
   "metadata": {},
   "outputs": [],
   "source": [
    "model.summary()"
   ]
  },
  {
   "cell_type": "code",
   "execution_count": null,
   "metadata": {},
   "outputs": [],
   "source": [
    "history = model.fit(x_train , y_train , epochs=5 , batch_size=32,\n",
    "                    validation_data=(x_val,y_val), verbose=1 , callbacks = [es])"
   ]
  },
  {
   "cell_type": "code",
   "execution_count": null,
   "metadata": {},
   "outputs": [],
   "source": [
    "plot_curves(history)"
   ]
  },
  {
   "cell_type": "code",
   "execution_count": null,
   "metadata": {},
   "outputs": [],
   "source": [
    "score = model.evaluate(x_test,y_test)"
   ]
  },
  {
   "cell_type": "code",
   "execution_count": null,
   "metadata": {},
   "outputs": [],
   "source": [
    "pred = model.predict(x_test)\n",
    "pred = np.argmax(pred,axis=1)"
   ]
  },
  {
   "cell_type": "code",
   "execution_count": null,
   "metadata": {},
   "outputs": [],
   "source": [
    "x_test"
   ]
  },
  {
   "cell_type": "code",
   "execution_count": null,
   "metadata": {},
   "outputs": [],
   "source": [
    "index =np.random.randint(1, len(x_test))\n",
    "img = x_test[index]\n",
    "plt.imshow(img)\n",
    "print(y_test[index])\n",
    "print(f\"Prediction: {predictions[pred[index]]}\")"
   ]
  },
  {
   "cell_type": "code",
   "execution_count": null,
   "metadata": {},
   "outputs": [],
   "source": [
    "predict_new(\"Dataset/Moderate/000c1434d8d7.png\")"
   ]
  },
  {
   "cell_type": "code",
   "execution_count": null,
   "metadata": {},
   "outputs": [],
   "source": []
  },
  {
   "cell_type": "code",
   "execution_count": null,
   "metadata": {},
   "outputs": [],
   "source": []
  },
  {
   "cell_type": "code",
   "execution_count": null,
   "metadata": {},
   "outputs": [],
   "source": []
  },
  {
   "cell_type": "code",
   "execution_count": null,
   "metadata": {},
   "outputs": [],
   "source": []
  },
  {
   "cell_type": "code",
   "execution_count": null,
   "metadata": {},
   "outputs": [],
   "source": []
  },
  {
   "cell_type": "code",
   "execution_count": null,
   "metadata": {},
   "outputs": [],
   "source": []
  },
  {
   "cell_type": "code",
   "execution_count": null,
   "metadata": {},
   "outputs": [],
   "source": []
  },
  {
   "cell_type": "code",
   "execution_count": null,
   "metadata": {},
   "outputs": [],
   "source": []
  },
  {
   "cell_type": "code",
   "execution_count": null,
   "metadata": {},
   "outputs": [],
   "source": []
  },
  {
   "cell_type": "code",
   "execution_count": null,
   "metadata": {},
   "outputs": [],
   "source": []
  },
  {
   "cell_type": "code",
   "execution_count": null,
   "metadata": {},
   "outputs": [],
   "source": []
  },
  {
   "cell_type": "code",
   "execution_count": null,
   "metadata": {},
   "outputs": [],
   "source": []
  }
 ],
 "metadata": {
  "kernelspec": {
   "display_name": "Python 3",
   "language": "python",
   "name": "python3"
  },
  "language_info": {
   "codemirror_mode": {
    "name": "ipython",
    "version": 3
   },
   "file_extension": ".py",
   "mimetype": "text/x-python",
   "name": "python",
   "nbconvert_exporter": "python",
   "pygments_lexer": "ipython3",
   "version": "3.7.4"
  }
 },
 "nbformat": 4,
 "nbformat_minor": 4
}
